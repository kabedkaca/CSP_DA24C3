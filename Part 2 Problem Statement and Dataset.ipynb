{
 "cells": [
  {
   "cell_type": "markdown",
   "id": "dc35a8c7",
   "metadata": {},
   "source": [
    "# Part 2: Problem Statement and Dataset"
   ]
  },
  {
   "cell_type": "markdown",
   "id": "831ffc3c",
   "metadata": {},
   "source": [
    "We expect a formatted and complete Jupyter Notebook by end of class the due date, which accomplishes the following:\n",
    "\n",
    "1. Identifies which of the three proposals you outlined in your lightning talk you have chosen\n",
    "2. Articulates the main goal of your project (your problem statement)\n",
    "3. Outlines your proposed methods and models\n",
    "4. Defines the risks & assumptions of your data\n",
    "5. Revises initial goals & success criteria, as needed\n",
    "6. Documents your data source"
   ]
  },
  {
   "cell_type": "markdown",
   "id": "11e59fe0",
   "metadata": {},
   "source": [
    "### 1. Identifies which of the three proposals you outlined in your lightning talk you have chosen\n",
    "##### The risk of getting flood from rainfall using Time-Series Analysis\n",
    "\n",
    "### 2. Articulates the main goal of your project (your problem statement):\n",
    "\n",
    "Goal:\n",
    "- Specific: Model to predict the risk of getting flood in certain area in future\n",
    "- Measurable: Model performance is assessed by  MSE, SSE, Accuracy, Precision and Recall\n",
    "- Achievable: Project is appropriately scoped as there is clear syllabus and reference with guidance and data availability\n",
    "- Relevant: Model will be a help in handling the flood in term of resources allocation, policy making, mitigation and readiness for policy makers, emergency services and authority body.\n",
    "- Time-bound: Project will be completed within the camp period\n"
   ]
  },
  {
   "cell_type": "markdown",
   "id": "a7910104",
   "metadata": {},
   "source": [
    "### 3. Outlines the proposed methods and models\n",
    " \n",
    "#### Proposed Methods and model (CRISP-DM)\n",
    "1. Come up with problem statement using SMART \n",
    "2. Collecting data \n",
    "3. Preprocess the data\n",
    "4. Exploratory Data Analysis (EDA)\n",
    "5. Feature Engineering the data: \n",
    "> eg: \n",
    ">- Create lag features from past rainfall data.\n",
    ">- Compute rolling statistics (e.g., mean, sum).\n",
    ">- Perform seasonal decomposition to analyze components.\n",
    "6. Model Selection based on Time-Series Analysis suitable with event based prediction\n",
    "7. Model Implementation: Train-Test Split, cross-validation, Evaluate model based on metrics\n",
    "8. Model Deployment\n",
    "9. Model Monitoring\n",
    "\n",
    "\n",
    "#### Proposed models\n",
    "**Time-Series Analysis**\n",
    "1. \n",
    "Consider multiple models:(from internet research)\n",
    "- Statistical Models: ARIMA, SARIMA, GARCH.\n",
    "- Machine Learning Models: Random Forest, Gradient Boosting, Support Vector Machines.\n",
    "- Deep Learning Models: LSTM, GRU.\n",
    "\n",
    "2. From article:\n",
    "- Event-based data mining\n",
    "- Method for Non-linear TS analysis and prediction\n",
    ">- Hidden Markov Method\n",
    ">- Artificial Neural network -(accuracay better for 4hr)\n",
    ">- non linear prediction - accuracy better for short period (1-6hrs)\n",
    "\n"
   ]
  },
  {
   "cell_type": "markdown",
   "id": "cce08c85",
   "metadata": {},
   "source": [
    "### 4. Defines the risks & assumptions of the data\n",
    "\n",
    "\n",
    "Risk:\n",
    "- Data is not suitable for objective\n",
    "- Data quality issues (errors, missing values, outliers)\n",
    "- Too many independent features (multicollinearity)\n",
    "\n",
    "Assumptions:\n",
    "- Data is cleaned and validated\n",
    "- Data distribution is representative\n"
   ]
  },
  {
   "cell_type": "markdown",
   "id": "729ec42a",
   "metadata": {},
   "source": [
    "### 5. Revises initial goals & success criteria\n",
    "\n",
    "The initial goals:\n",
    "Predict the occurrence and severity of landslides, floods, and earthquakes based on historical data.\n",
    "Identifying trends and patterns in the frequency and intensity of these natural disasters over time.\n",
    "Identifying high-risk periods and areas helps in implementing preventive measures to reduce the impact of disasters.\n",
    "To see if the other natural disaster will trigger or give impact on severity of disaster\n",
    "\n",
    "**Revised goal:**\n",
    "Predict the occurrence and severity of floodss based on historical data.\n",
    "Identifying high-risk periods and areas helps in implementing preventive measures to reduce the impact of flood.\n",
    "Identifying trends in flood frequency and intensity over time.\n",
    "\n",
    "\n",
    "Initial success criteria:\n",
    "Based on Accuracy, Mean Squared Error, Plot and Visual Inspection and Benchmarking\n",
    "\n",
    "**Revised success criteria:**\n",
    "Evaluate model using not only accuracy and error, but also precision and recall to measure its ability to correctly identify flood events and non-flood periods. \n",
    "\n"
   ]
  },
  {
   "cell_type": "markdown",
   "id": "4fba245d",
   "metadata": {},
   "source": [
    "### 6. Documents your data source\n",
    "\n",
    "Data source: \n",
    "- https://www.kaggle.com/datasets/rajanand/rainfall-in-india/code\n",
    "- https://www.kaggle.com/datasets/mexwell/united-states-flood-database"
   ]
  },
  {
   "cell_type": "code",
   "execution_count": null,
   "id": "5890e241",
   "metadata": {},
   "outputs": [],
   "source": []
  }
 ],
 "metadata": {
  "kernelspec": {
   "display_name": "Python 3 (ipykernel)",
   "language": "python",
   "name": "python3"
  },
  "language_info": {
   "codemirror_mode": {
    "name": "ipython",
    "version": 3
   },
   "file_extension": ".py",
   "mimetype": "text/x-python",
   "name": "python",
   "nbconvert_exporter": "python",
   "pygments_lexer": "ipython3",
   "version": "3.11.7"
  }
 },
 "nbformat": 4,
 "nbformat_minor": 5
}
