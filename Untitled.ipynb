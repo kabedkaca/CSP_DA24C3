{
 "cells": [
  {
   "cell_type": "code",
   "execution_count": 2,
   "id": "0eb461dc",
   "metadata": {},
   "outputs": [
    {
     "name": "stdout",
     "output_type": "stream",
     "text": [
      "Collecting pmdarima\n",
      "  Downloading pmdarima-2.0.4-cp311-cp311-win_amd64.whl.metadata (8.0 kB)\n",
      "Requirement already satisfied: joblib>=0.11 in c:\\users\\najib\\anaconda3\\lib\\site-packages (from pmdarima) (1.2.0)\n",
      "Collecting Cython!=0.29.18,!=0.29.31,>=0.29 (from pmdarima)\n",
      "  Downloading Cython-3.0.10-cp311-cp311-win_amd64.whl.metadata (3.2 kB)\n",
      "Requirement already satisfied: numpy>=1.21.2 in c:\\users\\najib\\anaconda3\\lib\\site-packages (from pmdarima) (1.26.4)\n",
      "Requirement already satisfied: pandas>=0.19 in c:\\users\\najib\\anaconda3\\lib\\site-packages (from pmdarima) (2.1.4)\n",
      "Requirement already satisfied: scikit-learn>=0.22 in c:\\users\\najib\\anaconda3\\lib\\site-packages (from pmdarima) (1.2.2)\n",
      "Requirement already satisfied: scipy>=1.3.2 in c:\\users\\najib\\anaconda3\\lib\\site-packages (from pmdarima) (1.11.4)\n",
      "Requirement already satisfied: statsmodels>=0.13.2 in c:\\users\\najib\\anaconda3\\lib\\site-packages (from pmdarima) (0.14.0)\n",
      "Requirement already satisfied: urllib3 in c:\\users\\najib\\anaconda3\\lib\\site-packages (from pmdarima) (2.0.7)\n",
      "Requirement already satisfied: setuptools!=50.0.0,>=38.6.0 in c:\\users\\najib\\anaconda3\\lib\\site-packages (from pmdarima) (68.2.2)\n",
      "Requirement already satisfied: packaging>=17.1 in c:\\users\\najib\\anaconda3\\lib\\site-packages (from pmdarima) (23.1)\n",
      "Requirement already satisfied: python-dateutil>=2.8.2 in c:\\users\\najib\\anaconda3\\lib\\site-packages (from pandas>=0.19->pmdarima) (2.8.2)\n",
      "Requirement already satisfied: pytz>=2020.1 in c:\\users\\najib\\anaconda3\\lib\\site-packages (from pandas>=0.19->pmdarima) (2023.3.post1)\n",
      "Requirement already satisfied: tzdata>=2022.1 in c:\\users\\najib\\anaconda3\\lib\\site-packages (from pandas>=0.19->pmdarima) (2023.3)\n",
      "Requirement already satisfied: threadpoolctl>=2.0.0 in c:\\users\\najib\\anaconda3\\lib\\site-packages (from scikit-learn>=0.22->pmdarima) (2.2.0)\n",
      "Requirement already satisfied: patsy>=0.5.2 in c:\\users\\najib\\anaconda3\\lib\\site-packages (from statsmodels>=0.13.2->pmdarima) (0.5.3)\n",
      "Requirement already satisfied: six in c:\\users\\najib\\anaconda3\\lib\\site-packages (from patsy>=0.5.2->statsmodels>=0.13.2->pmdarima) (1.16.0)\n",
      "Downloading pmdarima-2.0.4-cp311-cp311-win_amd64.whl (614 kB)\n",
      "   ---------------------------------------- 0.0/614.7 kB ? eta -:--:--\n",
      "   ------- -------------------------------- 122.9/614.7 kB 7.0 MB/s eta 0:00:01\n",
      "   -------------- ------------------------- 225.3/614.7 kB 2.8 MB/s eta 0:00:01\n",
      "   ------------------ --------------------- 286.7/614.7 kB 2.5 MB/s eta 0:00:01\n",
      "   ----------------------- ---------------- 368.6/614.7 kB 1.9 MB/s eta 0:00:01\n",
      "   ------------------------------- -------- 481.3/614.7 kB 2.2 MB/s eta 0:00:01\n",
      "   -------------------------------------- - 593.9/614.7 kB 2.2 MB/s eta 0:00:01\n",
      "   ---------------------------------------  614.4/614.7 kB 2.2 MB/s eta 0:00:01\n",
      "   ---------------------------------------- 614.7/614.7 kB 1.8 MB/s eta 0:00:00\n",
      "Downloading Cython-3.0.10-cp311-cp311-win_amd64.whl (2.8 MB)\n",
      "   ---------------------------------------- 0.0/2.8 MB ? eta -:--:--\n",
      "   - -------------------------------------- 0.1/2.8 MB 2.3 MB/s eta 0:00:02\n",
      "   -- ------------------------------------- 0.2/2.8 MB 2.2 MB/s eta 0:00:02\n",
      "   --- ------------------------------------ 0.3/2.8 MB 2.1 MB/s eta 0:00:02\n",
      "   ----- ---------------------------------- 0.4/2.8 MB 2.2 MB/s eta 0:00:02\n",
      "   ------ --------------------------------- 0.5/2.8 MB 2.2 MB/s eta 0:00:02\n",
      "   -------- ------------------------------- 0.6/2.8 MB 2.3 MB/s eta 0:00:01\n",
      "   ---------- ----------------------------- 0.7/2.8 MB 2.3 MB/s eta 0:00:01\n",
      "   ----------- ---------------------------- 0.8/2.8 MB 2.4 MB/s eta 0:00:01\n",
      "   ------------- -------------------------- 0.9/2.8 MB 2.3 MB/s eta 0:00:01\n",
      "   -------------- ------------------------- 1.0/2.8 MB 2.4 MB/s eta 0:00:01\n",
      "   ---------------- ----------------------- 1.2/2.8 MB 2.4 MB/s eta 0:00:01\n",
      "   ------------------ --------------------- 1.3/2.8 MB 2.4 MB/s eta 0:00:01\n",
      "   ------------------- -------------------- 1.4/2.8 MB 2.4 MB/s eta 0:00:01\n",
      "   ---------------------- ----------------- 1.6/2.8 MB 2.4 MB/s eta 0:00:01\n",
      "   ----------------------- ---------------- 1.6/2.8 MB 2.3 MB/s eta 0:00:01\n",
      "   ----------------------- ---------------- 1.7/2.8 MB 2.3 MB/s eta 0:00:01\n",
      "   ------------------------ --------------- 1.7/2.8 MB 2.2 MB/s eta 0:00:01\n",
      "   ------------------------- -------------- 1.8/2.8 MB 2.2 MB/s eta 0:00:01\n",
      "   --------------------------- ------------ 1.9/2.8 MB 2.2 MB/s eta 0:00:01\n",
      "   ----------------------------- ---------- 2.0/2.8 MB 2.2 MB/s eta 0:00:01\n",
      "   ------------------------------ --------- 2.1/2.8 MB 2.2 MB/s eta 0:00:01\n",
      "   -------------------------------- ------- 2.2/2.8 MB 2.2 MB/s eta 0:00:01\n",
      "   --------------------------------- ------ 2.3/2.8 MB 2.1 MB/s eta 0:00:01\n",
      "   ---------------------------------- ----- 2.4/2.8 MB 2.2 MB/s eta 0:00:01\n",
      "   ------------------------------------ --- 2.5/2.8 MB 2.2 MB/s eta 0:00:01\n",
      "   ------------------------------------- -- 2.6/2.8 MB 2.2 MB/s eta 0:00:01\n",
      "   -------------------------------------- - 2.7/2.8 MB 2.1 MB/s eta 0:00:01\n",
      "   ---------------------------------------  2.8/2.8 MB 2.1 MB/s eta 0:00:01\n",
      "   ---------------------------------------- 2.8/2.8 MB 2.1 MB/s eta 0:00:00\n",
      "Installing collected packages: Cython, pmdarima\n",
      "Successfully installed Cython-3.0.10 pmdarima-2.0.4\n",
      "Note: you may need to restart the kernel to use updated packages.\n"
     ]
    }
   ],
   "source": [
    "pip install pmdarima"
   ]
  },
  {
   "cell_type": "code",
   "execution_count": null,
   "id": "6b737a7f",
   "metadata": {},
   "outputs": [],
   "source": []
  }
 ],
 "metadata": {
  "kernelspec": {
   "display_name": "Python 3 (ipykernel)",
   "language": "python",
   "name": "python3"
  },
  "language_info": {
   "codemirror_mode": {
    "name": "ipython",
    "version": 3
   },
   "file_extension": ".py",
   "mimetype": "text/x-python",
   "name": "python",
   "nbconvert_exporter": "python",
   "pygments_lexer": "ipython3",
   "version": "3.11.7"
  }
 },
 "nbformat": 4,
 "nbformat_minor": 5
}
