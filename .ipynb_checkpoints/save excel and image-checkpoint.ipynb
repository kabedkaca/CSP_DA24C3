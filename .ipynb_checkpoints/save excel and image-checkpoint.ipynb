{
 "cells": [
  {
   "cell_type": "markdown",
   "id": "c4be31a3",
   "metadata": {},
   "source": [
    "# Household power consumption in 2007\n",
    "### Understanding Data and Data Preparation\n",
    "\n",
    "- Data Preprocessing\n",
    "- Data cleaning and munging\n",
    "- EDA\n",
    "\n",
    "---"
   ]
  },
  {
   "cell_type": "code",
   "execution_count": 1,
   "id": "dc85762e",
   "metadata": {},
   "outputs": [],
   "source": [
    "import numpy as np\n",
    "import pandas as pd\n",
    "import matplotlib.pyplot as plt\n",
    "import seaborn as sns\n"
   ]
  },
  {
   "cell_type": "code",
   "execution_count": 2,
   "id": "3804f808",
   "metadata": {},
   "outputs": [
    {
     "data": {
      "text/html": [
       "<div>\n",
       "<style scoped>\n",
       "    .dataframe tbody tr th:only-of-type {\n",
       "        vertical-align: middle;\n",
       "    }\n",
       "\n",
       "    .dataframe tbody tr th {\n",
       "        vertical-align: top;\n",
       "    }\n",
       "\n",
       "    .dataframe thead th {\n",
       "        text-align: right;\n",
       "    }\n",
       "</style>\n",
       "<table border=\"1\" class=\"dataframe\">\n",
       "  <thead>\n",
       "    <tr style=\"text-align: right;\">\n",
       "      <th></th>\n",
       "      <th>index</th>\n",
       "      <th>Date</th>\n",
       "      <th>Time</th>\n",
       "      <th>Global_active_power</th>\n",
       "      <th>Global_reactive_power</th>\n",
       "      <th>Voltage</th>\n",
       "      <th>Global_intensity</th>\n",
       "      <th>Sub_metering_1</th>\n",
       "      <th>Sub_metering_2</th>\n",
       "      <th>Sub_metering_3</th>\n",
       "    </tr>\n",
       "  </thead>\n",
       "  <tbody>\n",
       "    <tr>\n",
       "      <th>0</th>\n",
       "      <td>0</td>\n",
       "      <td>1/1/07</td>\n",
       "      <td>0:00:00</td>\n",
       "      <td>2.58</td>\n",
       "      <td>0.136</td>\n",
       "      <td>241.97</td>\n",
       "      <td>10.6</td>\n",
       "      <td>0</td>\n",
       "      <td>0</td>\n",
       "      <td>0.0</td>\n",
       "    </tr>\n",
       "    <tr>\n",
       "      <th>1</th>\n",
       "      <td>1</td>\n",
       "      <td>1/1/07</td>\n",
       "      <td>0:01:00</td>\n",
       "      <td>2.552</td>\n",
       "      <td>0.1</td>\n",
       "      <td>241.75</td>\n",
       "      <td>10.4</td>\n",
       "      <td>0</td>\n",
       "      <td>0</td>\n",
       "      <td>0.0</td>\n",
       "    </tr>\n",
       "    <tr>\n",
       "      <th>2</th>\n",
       "      <td>2</td>\n",
       "      <td>1/1/07</td>\n",
       "      <td>0:02:00</td>\n",
       "      <td>2.55</td>\n",
       "      <td>0.1</td>\n",
       "      <td>241.64</td>\n",
       "      <td>10.4</td>\n",
       "      <td>0</td>\n",
       "      <td>0</td>\n",
       "      <td>0.0</td>\n",
       "    </tr>\n",
       "    <tr>\n",
       "      <th>3</th>\n",
       "      <td>3</td>\n",
       "      <td>1/1/07</td>\n",
       "      <td>0:03:00</td>\n",
       "      <td>2.55</td>\n",
       "      <td>0.1</td>\n",
       "      <td>241.71</td>\n",
       "      <td>10.4</td>\n",
       "      <td>0</td>\n",
       "      <td>0</td>\n",
       "      <td>0.0</td>\n",
       "    </tr>\n",
       "    <tr>\n",
       "      <th>4</th>\n",
       "      <td>4</td>\n",
       "      <td>1/1/07</td>\n",
       "      <td>0:04:00</td>\n",
       "      <td>2.554</td>\n",
       "      <td>0.1</td>\n",
       "      <td>241.98</td>\n",
       "      <td>10.4</td>\n",
       "      <td>0</td>\n",
       "      <td>0</td>\n",
       "      <td>0.0</td>\n",
       "    </tr>\n",
       "  </tbody>\n",
       "</table>\n",
       "</div>"
      ],
      "text/plain": [
       "   index    Date     Time Global_active_power Global_reactive_power Voltage  \\\n",
       "0      0  1/1/07  0:00:00                2.58                 0.136  241.97   \n",
       "1      1  1/1/07  0:01:00               2.552                   0.1  241.75   \n",
       "2      2  1/1/07  0:02:00                2.55                   0.1  241.64   \n",
       "3      3  1/1/07  0:03:00                2.55                   0.1  241.71   \n",
       "4      4  1/1/07  0:04:00               2.554                   0.1  241.98   \n",
       "\n",
       "  Global_intensity Sub_metering_1 Sub_metering_2  Sub_metering_3  \n",
       "0             10.6              0              0             0.0  \n",
       "1             10.4              0              0             0.0  \n",
       "2             10.4              0              0             0.0  \n",
       "3             10.4              0              0             0.0  \n",
       "4             10.4              0              0             0.0  "
      ]
     },
     "execution_count": 2,
     "metadata": {},
     "output_type": "execute_result"
    }
   ],
   "source": [
    "df = df = pd.read_csv('data/household_power_consumption.csv')  #as i save the csv in data folder\n",
    "df.head()"
   ]
  },
  {
   "cell_type": "code",
   "execution_count": 3,
   "id": "239b1f94",
   "metadata": {},
   "outputs": [
    {
     "data": {
      "text/html": [
       "<div>\n",
       "<style scoped>\n",
       "    .dataframe tbody tr th:only-of-type {\n",
       "        vertical-align: middle;\n",
       "    }\n",
       "\n",
       "    .dataframe tbody tr th {\n",
       "        vertical-align: top;\n",
       "    }\n",
       "\n",
       "    .dataframe thead th {\n",
       "        text-align: right;\n",
       "    }\n",
       "</style>\n",
       "<table border=\"1\" class=\"dataframe\">\n",
       "  <thead>\n",
       "    <tr style=\"text-align: right;\">\n",
       "      <th></th>\n",
       "      <th>index</th>\n",
       "      <th>Date</th>\n",
       "      <th>Time</th>\n",
       "      <th>Global_active_power</th>\n",
       "      <th>Global_reactive_power</th>\n",
       "      <th>Voltage</th>\n",
       "      <th>Global_intensity</th>\n",
       "      <th>Sub_metering_1</th>\n",
       "      <th>Sub_metering_2</th>\n",
       "      <th>Sub_metering_3</th>\n",
       "    </tr>\n",
       "  </thead>\n",
       "  <tbody>\n",
       "    <tr>\n",
       "      <th>260635</th>\n",
       "      <td>260635</td>\n",
       "      <td>30/6/2007</td>\n",
       "      <td>23:55:00</td>\n",
       "      <td>2.88</td>\n",
       "      <td>0.36</td>\n",
       "      <td>239.01</td>\n",
       "      <td>12</td>\n",
       "      <td>0</td>\n",
       "      <td>0</td>\n",
       "      <td>18.0</td>\n",
       "    </tr>\n",
       "    <tr>\n",
       "      <th>260636</th>\n",
       "      <td>260636</td>\n",
       "      <td>30/6/2007</td>\n",
       "      <td>23:56:00</td>\n",
       "      <td>2.892</td>\n",
       "      <td>0.358</td>\n",
       "      <td>238.86</td>\n",
       "      <td>12.2</td>\n",
       "      <td>0</td>\n",
       "      <td>0</td>\n",
       "      <td>17.0</td>\n",
       "    </tr>\n",
       "    <tr>\n",
       "      <th>260637</th>\n",
       "      <td>260637</td>\n",
       "      <td>30/6/2007</td>\n",
       "      <td>23:57:00</td>\n",
       "      <td>2.882</td>\n",
       "      <td>0.28</td>\n",
       "      <td>239.05</td>\n",
       "      <td>12</td>\n",
       "      <td>0</td>\n",
       "      <td>0</td>\n",
       "      <td>18.0</td>\n",
       "    </tr>\n",
       "    <tr>\n",
       "      <th>260638</th>\n",
       "      <td>260638</td>\n",
       "      <td>30/6/2007</td>\n",
       "      <td>23:58:00</td>\n",
       "      <td>2.66</td>\n",
       "      <td>0.29</td>\n",
       "      <td>238.98</td>\n",
       "      <td>11.2</td>\n",
       "      <td>0</td>\n",
       "      <td>0</td>\n",
       "      <td>18.0</td>\n",
       "    </tr>\n",
       "    <tr>\n",
       "      <th>260639</th>\n",
       "      <td>260639</td>\n",
       "      <td>30/6/2007</td>\n",
       "      <td>23:59:00</td>\n",
       "      <td>2.548</td>\n",
       "      <td>0.354</td>\n",
       "      <td>239.25</td>\n",
       "      <td>10.6</td>\n",
       "      <td>0</td>\n",
       "      <td>1</td>\n",
       "      <td>17.0</td>\n",
       "    </tr>\n",
       "  </tbody>\n",
       "</table>\n",
       "</div>"
      ],
      "text/plain": [
       "         index       Date      Time Global_active_power Global_reactive_power  \\\n",
       "260635  260635  30/6/2007  23:55:00                2.88                  0.36   \n",
       "260636  260636  30/6/2007  23:56:00               2.892                 0.358   \n",
       "260637  260637  30/6/2007  23:57:00               2.882                  0.28   \n",
       "260638  260638  30/6/2007  23:58:00                2.66                  0.29   \n",
       "260639  260639  30/6/2007  23:59:00               2.548                 0.354   \n",
       "\n",
       "       Voltage Global_intensity Sub_metering_1 Sub_metering_2  Sub_metering_3  \n",
       "260635  239.01               12              0              0            18.0  \n",
       "260636  238.86             12.2              0              0            17.0  \n",
       "260637  239.05               12              0              0            18.0  \n",
       "260638  238.98             11.2              0              0            18.0  \n",
       "260639  239.25             10.6              0              1            17.0  "
      ]
     },
     "execution_count": 3,
     "metadata": {},
     "output_type": "execute_result"
    }
   ],
   "source": [
    "df.tail()"
   ]
  },
  {
   "cell_type": "markdown",
   "id": "f9509922",
   "metadata": {},
   "source": [
    "## Issue with formatting the column \n",
    "at first, there is only null for df['Sub_metering_3'], but the issue is,(without any munging or cleaning)\n",
    "\n",
    "1. date and time is not in the right format\n",
    "2. columns : `['Global_active_power', 'Global_reactive_power',\n",
    "       'Voltage', 'Global_intensity', 'Sub_metering_1', 'Sub_metering_2']` \n",
    "   are all dtype as object, so it cannot passed any EDA and analysis'\n",
    "   \n",
    "The plan:\n",
    "1. covert Date and Tiem into appropriate format\n",
    "2. Handle the issue with the numerical column but classififed as ibject, by fill either '?' or 'NaN' with the mean \n"
   ]
  },
  {
   "cell_type": "markdown",
   "id": "76411bd0",
   "metadata": {},
   "source": [
    "## 1. Understanding The Data"
   ]
  },
  {
   "cell_type": "code",
   "execution_count": 4,
   "id": "3a4e52b1",
   "metadata": {},
   "outputs": [
    {
     "data": {
      "text/plain": [
       "index                       0\n",
       "Date                        0\n",
       "Time                        0\n",
       "Global_active_power         0\n",
       "Global_reactive_power       0\n",
       "Voltage                     0\n",
       "Global_intensity            0\n",
       "Sub_metering_1              0\n",
       "Sub_metering_2              0\n",
       "Sub_metering_3           3771\n",
       "dtype: int64"
      ]
     },
     "execution_count": 4,
     "metadata": {},
     "output_type": "execute_result"
    }
   ],
   "source": [
    "df.isnull().sum()"
   ]
  },
  {
   "cell_type": "code",
   "execution_count": 5,
   "id": "86ba93e6",
   "metadata": {},
   "outputs": [
    {
     "name": "stdout",
     "output_type": "stream",
     "text": [
      "<class 'pandas.core.frame.DataFrame'>\n",
      "RangeIndex: 260640 entries, 0 to 260639\n",
      "Data columns (total 10 columns):\n",
      " #   Column                 Non-Null Count   Dtype  \n",
      "---  ------                 --------------   -----  \n",
      " 0   index                  260640 non-null  int64  \n",
      " 1   Date                   260640 non-null  object \n",
      " 2   Time                   260640 non-null  object \n",
      " 3   Global_active_power    260640 non-null  object \n",
      " 4   Global_reactive_power  260640 non-null  object \n",
      " 5   Voltage                260640 non-null  object \n",
      " 6   Global_intensity       260640 non-null  object \n",
      " 7   Sub_metering_1         260640 non-null  object \n",
      " 8   Sub_metering_2         260640 non-null  object \n",
      " 9   Sub_metering_3         256869 non-null  float64\n",
      "dtypes: float64(1), int64(1), object(8)\n",
      "memory usage: 19.9+ MB\n"
     ]
    }
   ],
   "source": [
    "df.info()"
   ]
  },
  {
   "cell_type": "code",
   "execution_count": 6,
   "id": "f49fa215",
   "metadata": {},
   "outputs": [
    {
     "data": {
      "text/plain": [
       "Index(['index', 'Date', 'Time', 'Global_active_power', 'Global_reactive_power',\n",
       "       'Voltage', 'Global_intensity', 'Sub_metering_1', 'Sub_metering_2',\n",
       "       'Sub_metering_3'],\n",
       "      dtype='object')"
      ]
     },
     "execution_count": 6,
     "metadata": {},
     "output_type": "execute_result"
    }
   ],
   "source": [
    "df.columns"
   ]
  },
  {
   "cell_type": "markdown",
   "id": "c8133cdd",
   "metadata": {},
   "source": [
    "## 2. Cleaning and Munging The Data"
   ]
  },
  {
   "cell_type": "code",
   "execution_count": 7,
   "id": "f8326536",
   "metadata": {},
   "outputs": [],
   "source": [
    "df=df.drop('index',axis=1)\n",
    "#drop index column"
   ]
  },
  {
   "cell_type": "markdown",
   "id": "9066a4b0",
   "metadata": {},
   "source": [
    "#### i) Munging the `Date` and `Time` column"
   ]
  },
  {
   "cell_type": "code",
   "execution_count": 8,
   "id": "4f52d079",
   "metadata": {},
   "outputs": [
    {
     "name": "stderr",
     "output_type": "stream",
     "text": [
      "C:\\Users\\najib\\AppData\\Local\\Temp\\ipykernel_13940\\3806764092.py:2: UserWarning: Could not infer format, so each element will be parsed individually, falling back to `dateutil`. To ensure parsing is consistent and as-expected, please specify a format.\n",
      "  df['DateTime'] = pd.to_datetime(df['Date'] + ' ' + df['Time'])\n"
     ]
    },
    {
     "data": {
      "text/html": [
       "<div>\n",
       "<style scoped>\n",
       "    .dataframe tbody tr th:only-of-type {\n",
       "        vertical-align: middle;\n",
       "    }\n",
       "\n",
       "    .dataframe tbody tr th {\n",
       "        vertical-align: top;\n",
       "    }\n",
       "\n",
       "    .dataframe thead th {\n",
       "        text-align: right;\n",
       "    }\n",
       "</style>\n",
       "<table border=\"1\" class=\"dataframe\">\n",
       "  <thead>\n",
       "    <tr style=\"text-align: right;\">\n",
       "      <th></th>\n",
       "      <th>Date</th>\n",
       "      <th>Time</th>\n",
       "      <th>Global_active_power</th>\n",
       "      <th>Global_reactive_power</th>\n",
       "      <th>Voltage</th>\n",
       "      <th>Global_intensity</th>\n",
       "      <th>Sub_metering_1</th>\n",
       "      <th>Sub_metering_2</th>\n",
       "      <th>Sub_metering_3</th>\n",
       "      <th>DateTime</th>\n",
       "    </tr>\n",
       "  </thead>\n",
       "  <tbody>\n",
       "    <tr>\n",
       "      <th>0</th>\n",
       "      <td>1/1/07</td>\n",
       "      <td>0:00:00</td>\n",
       "      <td>2.58</td>\n",
       "      <td>0.136</td>\n",
       "      <td>241.97</td>\n",
       "      <td>10.6</td>\n",
       "      <td>0</td>\n",
       "      <td>0</td>\n",
       "      <td>0.0</td>\n",
       "      <td>2007-01-01 00:00:00</td>\n",
       "    </tr>\n",
       "    <tr>\n",
       "      <th>1</th>\n",
       "      <td>1/1/07</td>\n",
       "      <td>0:01:00</td>\n",
       "      <td>2.552</td>\n",
       "      <td>0.1</td>\n",
       "      <td>241.75</td>\n",
       "      <td>10.4</td>\n",
       "      <td>0</td>\n",
       "      <td>0</td>\n",
       "      <td>0.0</td>\n",
       "      <td>2007-01-01 00:01:00</td>\n",
       "    </tr>\n",
       "    <tr>\n",
       "      <th>2</th>\n",
       "      <td>1/1/07</td>\n",
       "      <td>0:02:00</td>\n",
       "      <td>2.55</td>\n",
       "      <td>0.1</td>\n",
       "      <td>241.64</td>\n",
       "      <td>10.4</td>\n",
       "      <td>0</td>\n",
       "      <td>0</td>\n",
       "      <td>0.0</td>\n",
       "      <td>2007-01-01 00:02:00</td>\n",
       "    </tr>\n",
       "    <tr>\n",
       "      <th>3</th>\n",
       "      <td>1/1/07</td>\n",
       "      <td>0:03:00</td>\n",
       "      <td>2.55</td>\n",
       "      <td>0.1</td>\n",
       "      <td>241.71</td>\n",
       "      <td>10.4</td>\n",
       "      <td>0</td>\n",
       "      <td>0</td>\n",
       "      <td>0.0</td>\n",
       "      <td>2007-01-01 00:03:00</td>\n",
       "    </tr>\n",
       "    <tr>\n",
       "      <th>4</th>\n",
       "      <td>1/1/07</td>\n",
       "      <td>0:04:00</td>\n",
       "      <td>2.554</td>\n",
       "      <td>0.1</td>\n",
       "      <td>241.98</td>\n",
       "      <td>10.4</td>\n",
       "      <td>0</td>\n",
       "      <td>0</td>\n",
       "      <td>0.0</td>\n",
       "      <td>2007-01-01 00:04:00</td>\n",
       "    </tr>\n",
       "  </tbody>\n",
       "</table>\n",
       "</div>"
      ],
      "text/plain": [
       "     Date     Time Global_active_power Global_reactive_power Voltage  \\\n",
       "0  1/1/07  0:00:00                2.58                 0.136  241.97   \n",
       "1  1/1/07  0:01:00               2.552                   0.1  241.75   \n",
       "2  1/1/07  0:02:00                2.55                   0.1  241.64   \n",
       "3  1/1/07  0:03:00                2.55                   0.1  241.71   \n",
       "4  1/1/07  0:04:00               2.554                   0.1  241.98   \n",
       "\n",
       "  Global_intensity Sub_metering_1 Sub_metering_2  Sub_metering_3  \\\n",
       "0             10.6              0              0             0.0   \n",
       "1             10.4              0              0             0.0   \n",
       "2             10.4              0              0             0.0   \n",
       "3             10.4              0              0             0.0   \n",
       "4             10.4              0              0             0.0   \n",
       "\n",
       "             DateTime  \n",
       "0 2007-01-01 00:00:00  \n",
       "1 2007-01-01 00:01:00  \n",
       "2 2007-01-01 00:02:00  \n",
       "3 2007-01-01 00:03:00  \n",
       "4 2007-01-01 00:04:00  "
      ]
     },
     "execution_count": 8,
     "metadata": {},
     "output_type": "execute_result"
    }
   ],
   "source": [
    "# Combine 'Date' and 'Time' columns into a single DateTime column\n",
    "df['DateTime'] = pd.to_datetime(df['Date'] + ' ' + df['Time'])\n",
    "df.head()"
   ]
  },
  {
   "cell_type": "code",
   "execution_count": 9,
   "id": "2fcbccea",
   "metadata": {},
   "outputs": [],
   "source": [
    "# Drop the 'Date' and 'Time' columns\n",
    "df.drop(['Date', 'Time'], axis=1, inplace=True)"
   ]
  },
  {
   "cell_type": "code",
   "execution_count": 10,
   "id": "c50ebe05",
   "metadata": {},
   "outputs": [
    {
     "data": {
      "text/html": [
       "<div>\n",
       "<style scoped>\n",
       "    .dataframe tbody tr th:only-of-type {\n",
       "        vertical-align: middle;\n",
       "    }\n",
       "\n",
       "    .dataframe tbody tr th {\n",
       "        vertical-align: top;\n",
       "    }\n",
       "\n",
       "    .dataframe thead th {\n",
       "        text-align: right;\n",
       "    }\n",
       "</style>\n",
       "<table border=\"1\" class=\"dataframe\">\n",
       "  <thead>\n",
       "    <tr style=\"text-align: right;\">\n",
       "      <th></th>\n",
       "      <th>DateTime</th>\n",
       "      <th>Global_active_power</th>\n",
       "      <th>Global_reactive_power</th>\n",
       "      <th>Voltage</th>\n",
       "      <th>Global_intensity</th>\n",
       "      <th>Sub_metering_1</th>\n",
       "      <th>Sub_metering_2</th>\n",
       "      <th>Sub_metering_3</th>\n",
       "    </tr>\n",
       "  </thead>\n",
       "  <tbody>\n",
       "    <tr>\n",
       "      <th>0</th>\n",
       "      <td>2007-01-01 00:00:00</td>\n",
       "      <td>2.58</td>\n",
       "      <td>0.136</td>\n",
       "      <td>241.97</td>\n",
       "      <td>10.6</td>\n",
       "      <td>0</td>\n",
       "      <td>0</td>\n",
       "      <td>0.0</td>\n",
       "    </tr>\n",
       "    <tr>\n",
       "      <th>1</th>\n",
       "      <td>2007-01-01 00:01:00</td>\n",
       "      <td>2.552</td>\n",
       "      <td>0.1</td>\n",
       "      <td>241.75</td>\n",
       "      <td>10.4</td>\n",
       "      <td>0</td>\n",
       "      <td>0</td>\n",
       "      <td>0.0</td>\n",
       "    </tr>\n",
       "  </tbody>\n",
       "</table>\n",
       "</div>"
      ],
      "text/plain": [
       "             DateTime Global_active_power Global_reactive_power Voltage  \\\n",
       "0 2007-01-01 00:00:00                2.58                 0.136  241.97   \n",
       "1 2007-01-01 00:01:00               2.552                   0.1  241.75   \n",
       "\n",
       "  Global_intensity Sub_metering_1 Sub_metering_2  Sub_metering_3  \n",
       "0             10.6              0              0             0.0  \n",
       "1             10.4              0              0             0.0  "
      ]
     },
     "execution_count": 10,
     "metadata": {},
     "output_type": "execute_result"
    }
   ],
   "source": [
    "# Extract the 'DateTime' column\n",
    "datetime_column = df.pop('DateTime')\n",
    "\n",
    "# Insert the 'DateTime' column at the beginning of the DataFrame\n",
    "df.insert(0, 'DateTime', datetime_column)\n",
    "df.head(2)"
   ]
  },
  {
   "cell_type": "code",
   "execution_count": 11,
   "id": "8ec979f9",
   "metadata": {},
   "outputs": [
    {
     "data": {
      "text/plain": [
       "dtype('<M8[ns]')"
      ]
     },
     "execution_count": 11,
     "metadata": {},
     "output_type": "execute_result"
    }
   ],
   "source": [
    "df['DateTime'].dtype  #dtype('<M8[ns]')\n",
    "# dtype('<M8[ns]') is the NumPy representation of a datetime64[ns] data type, indicating that your DateTime column is indeed in the correct format."
   ]
  },
  {
   "cell_type": "code",
   "execution_count": 12,
   "id": "007c09ff",
   "metadata": {},
   "outputs": [
    {
     "name": "stdout",
     "output_type": "stream",
     "text": [
      "Are there any NaT values in the Date column? False\n"
     ]
    }
   ],
   "source": [
    "has_nat = df['DateTime'].isna().any()\n",
    "print(f\"Are there any NaT values in the Date column? {has_nat}\")\n",
    "\n",
    "if has_nat:\n",
    "    # Display the rows with NaT values in the Date column\n",
    "    nat_rows = df[df['DateTime'].isna()]\n",
    "    print(\"Rows with NaT in the Date column:\")\n",
    "    print(nat_rows)\n",
    "    "
   ]
  },
  {
   "cell_type": "code",
   "execution_count": 13,
   "id": "5d3d9037",
   "metadata": {},
   "outputs": [
    {
     "data": {
      "text/plain": [
       "DateTime                    0\n",
       "Global_active_power         0\n",
       "Global_reactive_power       0\n",
       "Voltage                     0\n",
       "Global_intensity            0\n",
       "Sub_metering_1              0\n",
       "Sub_metering_2              0\n",
       "Sub_metering_3           3771\n",
       "dtype: int64"
      ]
     },
     "execution_count": 13,
     "metadata": {},
     "output_type": "execute_result"
    }
   ],
   "source": [
    "df.isnull().sum()"
   ]
  },
  {
   "cell_type": "markdown",
   "id": "172bab64",
   "metadata": {},
   "source": [
    "#### ii) Handling the nulls\n",
    "- For columns with numeric contents,but type wrongly\n",
    "- Even when the data is in numeric, `df.info()` list these columns as object, \n",
    "- Plan: check using unique value and handle the problem by fill the null"
   ]
  },
  {
   "cell_type": "markdown",
   "id": "23f9367b",
   "metadata": {},
   "source": [
    "**Step 1 - Change the column to numeric**"
   ]
  },
  {
   "cell_type": "code",
   "execution_count": 14,
   "id": "44f9db94",
   "metadata": {},
   "outputs": [
    {
     "name": "stdout",
     "output_type": "stream",
     "text": [
      "['2.58' '2.552' '2.55' ... '7.022' '4.592' '6.152']\n",
      "float64\n",
      "[2.58  2.552 2.55  ... 7.022 4.592 6.152]\n"
     ]
    }
   ],
   "source": [
    "print(df['Global_active_power'].unique())\n",
    "#If there might be leading or trailing whitespace, strip them.\n",
    "#df['Global_active_power'] = df['Global_active_power'].str.strip()  # ada ...\n",
    "#Use pd.to_numeric to convert the column to numeric, coercing any errors to NaN.\n",
    "df['Global_active_power'] = pd.to_numeric(df['Global_active_power'], errors='coerce')\n",
    "print(df['Global_active_power'].dtype) #verify the conversion\n",
    "#lepas tukar str ke float,... still ada,kita replace dia dengan mean or anything\n",
    "#mean_meter_3 = \n",
    "#df['Global_active_power'].replace('...', np.nan, inplace=True)\n",
    "#df['Global_active_power'].fillna(df['Global_active_power'].mean(), inplace=True)\n",
    "print(df['Global_active_power'].unique())"
   ]
  },
  {
   "cell_type": "code",
   "execution_count": 15,
   "id": "3ae8f40e",
   "metadata": {},
   "outputs": [
    {
     "name": "stdout",
     "output_type": "stream",
     "text": [
      "float64\n"
     ]
    }
   ],
   "source": [
    "# This likely happened because the numerical values are stored as strings. \n",
    "df['Voltage'] = pd.to_numeric(df['Voltage'], errors='coerce')\n",
    "#df['Voltage'] = df['Voltage'].replace('...', np.nan)\n",
    "print(df['Voltage'].dtype)"
   ]
  },
  {
   "cell_type": "code",
   "execution_count": 16,
   "id": "d1a9abc0",
   "metadata": {},
   "outputs": [
    {
     "name": "stdout",
     "output_type": "stream",
     "text": [
      "float64\n"
     ]
    }
   ],
   "source": [
    "#indicate that there is a non-numeric value '?' in the column. This is likely \n",
    "#the reason why the column is detected as an object type. there are nan in original values\n",
    "df['Global_reactive_power'] = df['Global_reactive_power'].replace('?', np.nan)\n",
    "df['Global_reactive_power'] = pd.to_numeric(df['Global_reactive_power'], errors='coerce')\n",
    "print(df['Global_reactive_power'].dtype)"
   ]
  },
  {
   "cell_type": "code",
   "execution_count": 17,
   "id": "f6baf4b5",
   "metadata": {},
   "outputs": [
    {
     "name": "stdout",
     "output_type": "stream",
     "text": [
      "float64\n"
     ]
    }
   ],
   "source": [
    "df['Global_intensity'].unique()\n",
    "#contains a non-numeric value '?'\n",
    "df['Global_intensity'] = df['Global_intensity'].replace('?', np.nan)\n",
    "#Replace the '?' with NaN.\n",
    "df['Global_intensity'] = pd.to_numeric(df['Global_intensity'], errors='coerce')\n",
    "print(df['Global_intensity'].dtype)"
   ]
  },
  {
   "cell_type": "code",
   "execution_count": 18,
   "id": "5092a8dc",
   "metadata": {},
   "outputs": [
    {
     "name": "stdout",
     "output_type": "stream",
     "text": [
      "float64\n"
     ]
    }
   ],
   "source": [
    "#print(df['Sub_metering_1'].unique())  #tocheck what causing the dtype as object\n",
    "#'32' '15' '?' '45' '42'- Replace '?' with NaN\n",
    "df['Sub_metering_1'] = df['Sub_metering_1'].replace('?', np.nan)\n",
    "# Convert the column to numeric (float)\n",
    "df['Sub_metering_1'] = pd.to_numeric(df['Sub_metering_1'], errors='coerce')\n",
    "print(df['Sub_metering_1'].dtype)"
   ]
  },
  {
   "cell_type": "code",
   "execution_count": 19,
   "id": "c9fc79f4",
   "metadata": {},
   "outputs": [
    {
     "name": "stdout",
     "output_type": "stream",
     "text": [
      "float64\n"
     ]
    }
   ],
   "source": [
    "#'66' '61' '?' '44'\n",
    "# Replace '?' with NaN\n",
    "df['Sub_metering_2'] = df['Sub_metering_2'].replace('?', np.nan)\n",
    "# Convert the column to numeric (float)\n",
    "df['Sub_metering_2'] = pd.to_numeric(df['Sub_metering_2'], errors='coerce')\n",
    "print(df['Sub_metering_2'].dtype)"
   ]
  },
  {
   "cell_type": "code",
   "execution_count": 20,
   "id": "4f640208",
   "metadata": {},
   "outputs": [
    {
     "data": {
      "text/plain": [
       "DateTime                    0\n",
       "Global_active_power      3771\n",
       "Global_reactive_power    3771\n",
       "Voltage                  3771\n",
       "Global_intensity         3771\n",
       "Sub_metering_1           3771\n",
       "Sub_metering_2           3771\n",
       "Sub_metering_3           3771\n",
       "dtype: int64"
      ]
     },
     "execution_count": 20,
     "metadata": {},
     "output_type": "execute_result"
    }
   ],
   "source": [
    "df.isnull().sum()\n",
    "#as we already converted the numerical column from object to float,now suddenly there are nulls, when there is no null before"
   ]
  },
  {
   "cell_type": "markdown",
   "id": "871df8f2",
   "metadata": {},
   "source": [
    "**Step 2 - Fill the nan with mean**"
   ]
  },
  {
   "cell_type": "code",
   "execution_count": 21,
   "id": "53642110",
   "metadata": {},
   "outputs": [],
   "source": [
    "# Calculate the mean of the 'Global_active_power' column\n",
    "mean_active = df['Global_active_power'].mean()\n",
    "\n",
    "# Fill NaN values with the mean\n",
    "df['Global_active_power'].fillna(mean_active, inplace=True)"
   ]
  },
  {
   "cell_type": "code",
   "execution_count": 22,
   "id": "403dda8e",
   "metadata": {},
   "outputs": [],
   "source": [
    "mean_reactive = df['Global_reactive_power'].mean()\n",
    "df['Global_reactive_power'].fillna(mean_reactive, inplace=True)"
   ]
  },
  {
   "cell_type": "code",
   "execution_count": 23,
   "id": "64fe4598",
   "metadata": {},
   "outputs": [],
   "source": [
    "# Calculate the mean of the 'Voltage' column\n",
    "mean_active = df['Voltage'].mean()\n",
    "\n",
    "# Fill NaN values with the mean\n",
    "df['Voltage'].fillna(mean_active, inplace=True)"
   ]
  },
  {
   "cell_type": "code",
   "execution_count": 24,
   "id": "c011b751",
   "metadata": {},
   "outputs": [],
   "source": [
    "mean_intensity = df['Global_intensity'].mean()\n",
    "df['Global_intensity'].fillna(mean_intensity, inplace=True)"
   ]
  },
  {
   "cell_type": "code",
   "execution_count": 25,
   "id": "6bc56371",
   "metadata": {},
   "outputs": [],
   "source": [
    "mean_meter_1 = df['Sub_metering_1'].mean()\n",
    "df['Sub_metering_1'].fillna(mean_meter_1, inplace=True)"
   ]
  },
  {
   "cell_type": "code",
   "execution_count": 26,
   "id": "d948b059",
   "metadata": {},
   "outputs": [],
   "source": [
    "mean_meter_2 = df['Sub_metering_2'].mean()\n",
    "df['Sub_metering_2'].fillna(mean_meter_2, inplace=True)"
   ]
  },
  {
   "cell_type": "code",
   "execution_count": 27,
   "id": "7b8b8f10",
   "metadata": {},
   "outputs": [
    {
     "name": "stdout",
     "output_type": "stream",
     "text": [
      "[ 0. 16. 18. 17.  9. 12. 19.  5.  1. 14. 15. 13.  4.  6.  8.  7.  3. 11.\n",
      " 10.  2. nan 20.]\n",
      "float64\n",
      "[ 0.         16.         18.         17.          9.         12.\n",
      " 19.          5.          1.         14.         15.         13.\n",
      "  4.          6.          8.          7.          3.         11.\n",
      " 10.          2.          5.83182478 20.        ]\n"
     ]
    }
   ],
   "source": [
    "print(df['Sub_metering_3'].unique())\n",
    "#there is nan\n",
    "#10.  2. nan 20.]\n",
    "mean_meter_3 = df['Sub_metering_3'].mean()\n",
    "df['Sub_metering_3'].fillna(mean_meter_3, inplace=True)\n",
    "#df['Sub_metering_3']=df['Sub_metering_3'].fillna(method='bfill')\n",
    "#\n",
    "print(df['Sub_metering_3'].dtype)\n",
    "print(df['Sub_metering_3'].unique())"
   ]
  },
  {
   "cell_type": "code",
   "execution_count": 28,
   "id": "69f282a5",
   "metadata": {},
   "outputs": [
    {
     "data": {
      "text/plain": [
       "DateTime                 0\n",
       "Global_active_power      0\n",
       "Global_reactive_power    0\n",
       "Voltage                  0\n",
       "Global_intensity         0\n",
       "Sub_metering_1           0\n",
       "Sub_metering_2           0\n",
       "Sub_metering_3           0\n",
       "dtype: int64"
      ]
     },
     "execution_count": 28,
     "metadata": {},
     "output_type": "execute_result"
    }
   ],
   "source": [
    "df.isnull().sum()"
   ]
  },
  {
   "cell_type": "code",
   "execution_count": 29,
   "id": "8bf64863",
   "metadata": {},
   "outputs": [
    {
     "name": "stdout",
     "output_type": "stream",
     "text": [
      "Empty DataFrame\n",
      "Columns: [DateTime, Global_active_power, Global_reactive_power, Voltage, Global_intensity, Sub_metering_1, Sub_metering_2, Sub_metering_3]\n",
      "Index: []\n"
     ]
    }
   ],
   "source": [
    "#To check null for the column and what null\n",
    "null_values = df[df['Global_active_power'].isna()]\n",
    "print(null_values)"
   ]
  },
  {
   "cell_type": "code",
   "execution_count": 30,
   "id": "8dc735bb",
   "metadata": {},
   "outputs": [
    {
     "data": {
      "text/html": [
       "<div>\n",
       "<style scoped>\n",
       "    .dataframe tbody tr th:only-of-type {\n",
       "        vertical-align: middle;\n",
       "    }\n",
       "\n",
       "    .dataframe tbody tr th {\n",
       "        vertical-align: top;\n",
       "    }\n",
       "\n",
       "    .dataframe thead th {\n",
       "        text-align: right;\n",
       "    }\n",
       "</style>\n",
       "<table border=\"1\" class=\"dataframe\">\n",
       "  <thead>\n",
       "    <tr style=\"text-align: right;\">\n",
       "      <th></th>\n",
       "      <th>DateTime</th>\n",
       "      <th>Global_active_power</th>\n",
       "      <th>Global_reactive_power</th>\n",
       "      <th>Voltage</th>\n",
       "      <th>Global_intensity</th>\n",
       "      <th>Sub_metering_1</th>\n",
       "      <th>Sub_metering_2</th>\n",
       "      <th>Sub_metering_3</th>\n",
       "    </tr>\n",
       "  </thead>\n",
       "  <tbody>\n",
       "    <tr>\n",
       "      <th>0</th>\n",
       "      <td>2007-01-01 00:00:00</td>\n",
       "      <td>2.580</td>\n",
       "      <td>0.136</td>\n",
       "      <td>241.97</td>\n",
       "      <td>10.6</td>\n",
       "      <td>0.0</td>\n",
       "      <td>0.0</td>\n",
       "      <td>0.0</td>\n",
       "    </tr>\n",
       "    <tr>\n",
       "      <th>1</th>\n",
       "      <td>2007-01-01 00:01:00</td>\n",
       "      <td>2.552</td>\n",
       "      <td>0.100</td>\n",
       "      <td>241.75</td>\n",
       "      <td>10.4</td>\n",
       "      <td>0.0</td>\n",
       "      <td>0.0</td>\n",
       "      <td>0.0</td>\n",
       "    </tr>\n",
       "    <tr>\n",
       "      <th>2</th>\n",
       "      <td>2007-01-01 00:02:00</td>\n",
       "      <td>2.550</td>\n",
       "      <td>0.100</td>\n",
       "      <td>241.64</td>\n",
       "      <td>10.4</td>\n",
       "      <td>0.0</td>\n",
       "      <td>0.0</td>\n",
       "      <td>0.0</td>\n",
       "    </tr>\n",
       "  </tbody>\n",
       "</table>\n",
       "</div>"
      ],
      "text/plain": [
       "             DateTime  Global_active_power  Global_reactive_power  Voltage  \\\n",
       "0 2007-01-01 00:00:00                2.580                  0.136   241.97   \n",
       "1 2007-01-01 00:01:00                2.552                  0.100   241.75   \n",
       "2 2007-01-01 00:02:00                2.550                  0.100   241.64   \n",
       "\n",
       "   Global_intensity  Sub_metering_1  Sub_metering_2  Sub_metering_3  \n",
       "0              10.6             0.0             0.0             0.0  \n",
       "1              10.4             0.0             0.0             0.0  \n",
       "2              10.4             0.0             0.0             0.0  "
      ]
     },
     "execution_count": 30,
     "metadata": {},
     "output_type": "execute_result"
    }
   ],
   "source": [
    "df.head(3)"
   ]
  },
  {
   "cell_type": "code",
   "execution_count": 31,
   "id": "ea7f5edf",
   "metadata": {},
   "outputs": [
    {
     "data": {
      "text/html": [
       "<div>\n",
       "<style scoped>\n",
       "    .dataframe tbody tr th:only-of-type {\n",
       "        vertical-align: middle;\n",
       "    }\n",
       "\n",
       "    .dataframe tbody tr th {\n",
       "        vertical-align: top;\n",
       "    }\n",
       "\n",
       "    .dataframe thead th {\n",
       "        text-align: right;\n",
       "    }\n",
       "</style>\n",
       "<table border=\"1\" class=\"dataframe\">\n",
       "  <thead>\n",
       "    <tr style=\"text-align: right;\">\n",
       "      <th></th>\n",
       "      <th>DateTime</th>\n",
       "      <th>Global_active_power</th>\n",
       "      <th>Global_reactive_power</th>\n",
       "      <th>Voltage</th>\n",
       "      <th>Global_intensity</th>\n",
       "      <th>Sub_metering_1</th>\n",
       "      <th>Sub_metering_2</th>\n",
       "      <th>Sub_metering_3</th>\n",
       "    </tr>\n",
       "  </thead>\n",
       "  <tbody>\n",
       "    <tr>\n",
       "      <th>260637</th>\n",
       "      <td>2007-06-30 23:57:00</td>\n",
       "      <td>2.882</td>\n",
       "      <td>0.280</td>\n",
       "      <td>239.05</td>\n",
       "      <td>12.0</td>\n",
       "      <td>0.0</td>\n",
       "      <td>0.0</td>\n",
       "      <td>18.0</td>\n",
       "    </tr>\n",
       "    <tr>\n",
       "      <th>260638</th>\n",
       "      <td>2007-06-30 23:58:00</td>\n",
       "      <td>2.660</td>\n",
       "      <td>0.290</td>\n",
       "      <td>238.98</td>\n",
       "      <td>11.2</td>\n",
       "      <td>0.0</td>\n",
       "      <td>0.0</td>\n",
       "      <td>18.0</td>\n",
       "    </tr>\n",
       "    <tr>\n",
       "      <th>260639</th>\n",
       "      <td>2007-06-30 23:59:00</td>\n",
       "      <td>2.548</td>\n",
       "      <td>0.354</td>\n",
       "      <td>239.25</td>\n",
       "      <td>10.6</td>\n",
       "      <td>0.0</td>\n",
       "      <td>1.0</td>\n",
       "      <td>17.0</td>\n",
       "    </tr>\n",
       "  </tbody>\n",
       "</table>\n",
       "</div>"
      ],
      "text/plain": [
       "                  DateTime  Global_active_power  Global_reactive_power  \\\n",
       "260637 2007-06-30 23:57:00                2.882                  0.280   \n",
       "260638 2007-06-30 23:58:00                2.660                  0.290   \n",
       "260639 2007-06-30 23:59:00                2.548                  0.354   \n",
       "\n",
       "        Voltage  Global_intensity  Sub_metering_1  Sub_metering_2  \\\n",
       "260637   239.05              12.0             0.0             0.0   \n",
       "260638   238.98              11.2             0.0             0.0   \n",
       "260639   239.25              10.6             0.0             1.0   \n",
       "\n",
       "        Sub_metering_3  \n",
       "260637            18.0  \n",
       "260638            18.0  \n",
       "260639            17.0  "
      ]
     },
     "execution_count": 31,
     "metadata": {},
     "output_type": "execute_result"
    }
   ],
   "source": [
    "df.tail(3)"
   ]
  },
  {
   "cell_type": "code",
   "execution_count": 32,
   "id": "aefb7192",
   "metadata": {},
   "outputs": [],
   "source": [
    "def analyze_dataframe(df):\n",
    "    # new dataframe to store new df just for our ref\n",
    "    result_df = pd.DataFrame(index=df.columns, columns=['Unique Values', 'Missing Values', 'Total Rows'])\n",
    "    # Get the total number of rows\n",
    "    total_rows = df.shape[0]\n",
    "    # now the new df must be filled with info for the column\n",
    "    for column in df.columns:\n",
    "        unique_values = df[column].nunique()  #to call unique value from each column\n",
    "        missing_values = df[column].isnull().sum()  #to check how many null for each row \n",
    "\n",
    "        result_df.loc[column] = [unique_values, missing_values, total_rows] #to loc whole colun and rows into result_df2\n",
    "    return result_df"
   ]
  },
  {
   "cell_type": "code",
   "execution_count": 33,
   "id": "904b3710",
   "metadata": {},
   "outputs": [
    {
     "data": {
      "text/html": [
       "<div>\n",
       "<style scoped>\n",
       "    .dataframe tbody tr th:only-of-type {\n",
       "        vertical-align: middle;\n",
       "    }\n",
       "\n",
       "    .dataframe tbody tr th {\n",
       "        vertical-align: top;\n",
       "    }\n",
       "\n",
       "    .dataframe thead th {\n",
       "        text-align: right;\n",
       "    }\n",
       "</style>\n",
       "<table border=\"1\" class=\"dataframe\">\n",
       "  <thead>\n",
       "    <tr style=\"text-align: right;\">\n",
       "      <th></th>\n",
       "      <th>Unique Values</th>\n",
       "      <th>Missing Values</th>\n",
       "      <th>Total Rows</th>\n",
       "    </tr>\n",
       "  </thead>\n",
       "  <tbody>\n",
       "    <tr>\n",
       "      <th>DateTime</th>\n",
       "      <td>260640</td>\n",
       "      <td>0</td>\n",
       "      <td>260640</td>\n",
       "    </tr>\n",
       "    <tr>\n",
       "      <th>Global_active_power</th>\n",
       "      <td>3585</td>\n",
       "      <td>0</td>\n",
       "      <td>260640</td>\n",
       "    </tr>\n",
       "    <tr>\n",
       "      <th>Global_reactive_power</th>\n",
       "      <td>414</td>\n",
       "      <td>0</td>\n",
       "      <td>260640</td>\n",
       "    </tr>\n",
       "    <tr>\n",
       "      <th>Voltage</th>\n",
       "      <td>2276</td>\n",
       "      <td>0</td>\n",
       "      <td>260640</td>\n",
       "    </tr>\n",
       "    <tr>\n",
       "      <th>Global_intensity</th>\n",
       "      <td>200</td>\n",
       "      <td>0</td>\n",
       "      <td>260640</td>\n",
       "    </tr>\n",
       "    <tr>\n",
       "      <th>Sub_metering_1</th>\n",
       "      <td>79</td>\n",
       "      <td>0</td>\n",
       "      <td>260640</td>\n",
       "    </tr>\n",
       "    <tr>\n",
       "      <th>Sub_metering_2</th>\n",
       "      <td>80</td>\n",
       "      <td>0</td>\n",
       "      <td>260640</td>\n",
       "    </tr>\n",
       "    <tr>\n",
       "      <th>Sub_metering_3</th>\n",
       "      <td>22</td>\n",
       "      <td>0</td>\n",
       "      <td>260640</td>\n",
       "    </tr>\n",
       "  </tbody>\n",
       "</table>\n",
       "</div>"
      ],
      "text/plain": [
       "                      Unique Values Missing Values Total Rows\n",
       "DateTime                     260640              0     260640\n",
       "Global_active_power            3585              0     260640\n",
       "Global_reactive_power           414              0     260640\n",
       "Voltage                        2276              0     260640\n",
       "Global_intensity                200              0     260640\n",
       "Sub_metering_1                   79              0     260640\n",
       "Sub_metering_2                   80              0     260640\n",
       "Sub_metering_3                   22              0     260640"
      ]
     },
     "execution_count": 33,
     "metadata": {},
     "output_type": "execute_result"
    }
   ],
   "source": [
    "analyze_dataframe(df)"
   ]
  },
  {
   "cell_type": "code",
   "execution_count": 34,
   "id": "02e13ce5",
   "metadata": {},
   "outputs": [
    {
     "name": "stdout",
     "output_type": "stream",
     "text": [
      "<class 'pandas.core.frame.DataFrame'>\n",
      "RangeIndex: 260640 entries, 0 to 260639\n",
      "Data columns (total 8 columns):\n",
      " #   Column                 Non-Null Count   Dtype         \n",
      "---  ------                 --------------   -----         \n",
      " 0   DateTime               260640 non-null  datetime64[ns]\n",
      " 1   Global_active_power    260640 non-null  float64       \n",
      " 2   Global_reactive_power  260640 non-null  float64       \n",
      " 3   Voltage                260640 non-null  float64       \n",
      " 4   Global_intensity       260640 non-null  float64       \n",
      " 5   Sub_metering_1         260640 non-null  float64       \n",
      " 6   Sub_metering_2         260640 non-null  float64       \n",
      " 7   Sub_metering_3         260640 non-null  float64       \n",
      "dtypes: datetime64[ns](1), float64(7)\n",
      "memory usage: 15.9 MB\n"
     ]
    }
   ],
   "source": [
    "df.info()"
   ]
  },
  {
   "cell_type": "code",
   "execution_count": 35,
   "id": "34865f33",
   "metadata": {},
   "outputs": [
    {
     "data": {
      "text/html": [
       "<div>\n",
       "<style scoped>\n",
       "    .dataframe tbody tr th:only-of-type {\n",
       "        vertical-align: middle;\n",
       "    }\n",
       "\n",
       "    .dataframe tbody tr th {\n",
       "        vertical-align: top;\n",
       "    }\n",
       "\n",
       "    .dataframe thead th {\n",
       "        text-align: right;\n",
       "    }\n",
       "</style>\n",
       "<table border=\"1\" class=\"dataframe\">\n",
       "  <thead>\n",
       "    <tr style=\"text-align: right;\">\n",
       "      <th></th>\n",
       "      <th>count</th>\n",
       "      <th>mean</th>\n",
       "      <th>min</th>\n",
       "      <th>25%</th>\n",
       "      <th>50%</th>\n",
       "      <th>75%</th>\n",
       "      <th>max</th>\n",
       "      <th>std</th>\n",
       "    </tr>\n",
       "  </thead>\n",
       "  <tbody>\n",
       "    <tr>\n",
       "      <th>DateTime</th>\n",
       "      <td>260640</td>\n",
       "      <td>2007-05-06 15:18:23.701657088</td>\n",
       "      <td>2007-01-01 00:00:00</td>\n",
       "      <td>2007-02-27 05:59:45</td>\n",
       "      <td>2007-04-25 11:59:30</td>\n",
       "      <td>2007-06-21 17:59:15</td>\n",
       "      <td>2007-12-06 23:59:00</td>\n",
       "      <td>NaN</td>\n",
       "    </tr>\n",
       "    <tr>\n",
       "      <th>Global_active_power</th>\n",
       "      <td>260640.0</td>\n",
       "      <td>1.164937</td>\n",
       "      <td>0.082</td>\n",
       "      <td>0.298</td>\n",
       "      <td>0.6</td>\n",
       "      <td>1.59</td>\n",
       "      <td>10.67</td>\n",
       "      <td>1.173252</td>\n",
       "    </tr>\n",
       "    <tr>\n",
       "      <th>Global_reactive_power</th>\n",
       "      <td>260640.0</td>\n",
       "      <td>0.123729</td>\n",
       "      <td>0.0</td>\n",
       "      <td>0.0</td>\n",
       "      <td>0.106</td>\n",
       "      <td>0.192</td>\n",
       "      <td>1.148</td>\n",
       "      <td>0.111059</td>\n",
       "    </tr>\n",
       "    <tr>\n",
       "      <th>Voltage</th>\n",
       "      <td>260640.0</td>\n",
       "      <td>239.208981</td>\n",
       "      <td>223.49</td>\n",
       "      <td>236.7</td>\n",
       "      <td>239.54</td>\n",
       "      <td>241.78</td>\n",
       "      <td>250.89</td>\n",
       "      <td>3.566708</td>\n",
       "    </tr>\n",
       "    <tr>\n",
       "      <th>Global_intensity</th>\n",
       "      <td>260640.0</td>\n",
       "      <td>4.974755</td>\n",
       "      <td>0.4</td>\n",
       "      <td>1.4</td>\n",
       "      <td>2.6</td>\n",
       "      <td>6.8</td>\n",
       "      <td>46.4</td>\n",
       "      <td>4.963194</td>\n",
       "    </tr>\n",
       "    <tr>\n",
       "      <th>Sub_metering_1</th>\n",
       "      <td>260640.0</td>\n",
       "      <td>1.332481</td>\n",
       "      <td>0.0</td>\n",
       "      <td>0.0</td>\n",
       "      <td>0.0</td>\n",
       "      <td>0.0</td>\n",
       "      <td>78.0</td>\n",
       "      <td>6.656289</td>\n",
       "    </tr>\n",
       "    <tr>\n",
       "      <th>Sub_metering_2</th>\n",
       "      <td>260640.0</td>\n",
       "      <td>1.67061</td>\n",
       "      <td>0.0</td>\n",
       "      <td>0.0</td>\n",
       "      <td>0.0</td>\n",
       "      <td>1.0</td>\n",
       "      <td>78.0</td>\n",
       "      <td>6.583214</td>\n",
       "    </tr>\n",
       "    <tr>\n",
       "      <th>Sub_metering_3</th>\n",
       "      <td>260640.0</td>\n",
       "      <td>5.831825</td>\n",
       "      <td>0.0</td>\n",
       "      <td>0.0</td>\n",
       "      <td>0.0</td>\n",
       "      <td>17.0</td>\n",
       "      <td>20.0</td>\n",
       "      <td>8.127269</td>\n",
       "    </tr>\n",
       "  </tbody>\n",
       "</table>\n",
       "</div>"
      ],
      "text/plain": [
       "                          count                           mean  \\\n",
       "DateTime                 260640  2007-05-06 15:18:23.701657088   \n",
       "Global_active_power    260640.0                       1.164937   \n",
       "Global_reactive_power  260640.0                       0.123729   \n",
       "Voltage                260640.0                     239.208981   \n",
       "Global_intensity       260640.0                       4.974755   \n",
       "Sub_metering_1         260640.0                       1.332481   \n",
       "Sub_metering_2         260640.0                        1.67061   \n",
       "Sub_metering_3         260640.0                       5.831825   \n",
       "\n",
       "                                       min                  25%  \\\n",
       "DateTime               2007-01-01 00:00:00  2007-02-27 05:59:45   \n",
       "Global_active_power                  0.082                0.298   \n",
       "Global_reactive_power                  0.0                  0.0   \n",
       "Voltage                             223.49                236.7   \n",
       "Global_intensity                       0.4                  1.4   \n",
       "Sub_metering_1                         0.0                  0.0   \n",
       "Sub_metering_2                         0.0                  0.0   \n",
       "Sub_metering_3                         0.0                  0.0   \n",
       "\n",
       "                                       50%                  75%  \\\n",
       "DateTime               2007-04-25 11:59:30  2007-06-21 17:59:15   \n",
       "Global_active_power                    0.6                 1.59   \n",
       "Global_reactive_power                0.106                0.192   \n",
       "Voltage                             239.54               241.78   \n",
       "Global_intensity                       2.6                  6.8   \n",
       "Sub_metering_1                         0.0                  0.0   \n",
       "Sub_metering_2                         0.0                  1.0   \n",
       "Sub_metering_3                         0.0                 17.0   \n",
       "\n",
       "                                       max       std  \n",
       "DateTime               2007-12-06 23:59:00       NaN  \n",
       "Global_active_power                  10.67  1.173252  \n",
       "Global_reactive_power                1.148  0.111059  \n",
       "Voltage                             250.89  3.566708  \n",
       "Global_intensity                      46.4  4.963194  \n",
       "Sub_metering_1                        78.0  6.656289  \n",
       "Sub_metering_2                        78.0  6.583214  \n",
       "Sub_metering_3                        20.0  8.127269  "
      ]
     },
     "execution_count": 35,
     "metadata": {},
     "output_type": "execute_result"
    }
   ],
   "source": [
    "df.describe().transpose()"
   ]
  },
  {
   "cell_type": "markdown",
   "id": "485b54d1",
   "metadata": {},
   "source": [
    "## 3. Explore the data (EDA)\n",
    "\n",
    "### i) Univariate non-graphical EDA"
   ]
  },
  {
   "cell_type": "code",
   "execution_count": 36,
   "id": "b4922753",
   "metadata": {},
   "outputs": [
    {
     "data": {
      "text/html": [
       "<div>\n",
       "<style scoped>\n",
       "    .dataframe tbody tr th:only-of-type {\n",
       "        vertical-align: middle;\n",
       "    }\n",
       "\n",
       "    .dataframe tbody tr th {\n",
       "        vertical-align: top;\n",
       "    }\n",
       "\n",
       "    .dataframe thead th {\n",
       "        text-align: right;\n",
       "    }\n",
       "</style>\n",
       "<table border=\"1\" class=\"dataframe\">\n",
       "  <thead>\n",
       "    <tr style=\"text-align: right;\">\n",
       "      <th>DateTime</th>\n",
       "      <th>2007-01-01 00:00:00</th>\n",
       "      <th>2007-01-01 00:01:00</th>\n",
       "      <th>2007-01-01 00:02:00</th>\n",
       "      <th>2007-01-01 00:03:00</th>\n",
       "      <th>2007-01-01 00:04:00</th>\n",
       "      <th>2007-01-01 00:05:00</th>\n",
       "      <th>2007-01-01 00:06:00</th>\n",
       "      <th>2007-01-01 00:07:00</th>\n",
       "      <th>2007-01-01 00:08:00</th>\n",
       "      <th>2007-01-01 00:09:00</th>\n",
       "      <th>...</th>\n",
       "      <th>2007-12-06 23:50:00</th>\n",
       "      <th>2007-12-06 23:51:00</th>\n",
       "      <th>2007-12-06 23:52:00</th>\n",
       "      <th>2007-12-06 23:53:00</th>\n",
       "      <th>2007-12-06 23:54:00</th>\n",
       "      <th>2007-12-06 23:55:00</th>\n",
       "      <th>2007-12-06 23:56:00</th>\n",
       "      <th>2007-12-06 23:57:00</th>\n",
       "      <th>2007-12-06 23:58:00</th>\n",
       "      <th>2007-12-06 23:59:00</th>\n",
       "    </tr>\n",
       "  </thead>\n",
       "  <tbody>\n",
       "    <tr>\n",
       "      <th>Global_active_power</th>\n",
       "      <td>2.580</td>\n",
       "      <td>2.552</td>\n",
       "      <td>2.55</td>\n",
       "      <td>2.55</td>\n",
       "      <td>2.554</td>\n",
       "      <td>2.55</td>\n",
       "      <td>2.534</td>\n",
       "      <td>2.484</td>\n",
       "      <td>2.468</td>\n",
       "      <td>2.486</td>\n",
       "      <td>...</td>\n",
       "      <td>0.228</td>\n",
       "      <td>0.178</td>\n",
       "      <td>0.178</td>\n",
       "      <td>0.178</td>\n",
       "      <td>0.178</td>\n",
       "      <td>0.178</td>\n",
       "      <td>0.178</td>\n",
       "      <td>0.176</td>\n",
       "      <td>0.216</td>\n",
       "      <td>0.264</td>\n",
       "    </tr>\n",
       "    <tr>\n",
       "      <th>Global_reactive_power</th>\n",
       "      <td>0.136</td>\n",
       "      <td>0.100</td>\n",
       "      <td>0.10</td>\n",
       "      <td>0.10</td>\n",
       "      <td>0.100</td>\n",
       "      <td>0.10</td>\n",
       "      <td>0.096</td>\n",
       "      <td>0.000</td>\n",
       "      <td>0.000</td>\n",
       "      <td>0.000</td>\n",
       "      <td>...</td>\n",
       "      <td>0.096</td>\n",
       "      <td>0.098</td>\n",
       "      <td>0.098</td>\n",
       "      <td>0.094</td>\n",
       "      <td>0.096</td>\n",
       "      <td>0.094</td>\n",
       "      <td>0.096</td>\n",
       "      <td>0.094</td>\n",
       "      <td>0.124</td>\n",
       "      <td>0.210</td>\n",
       "    </tr>\n",
       "    <tr>\n",
       "      <th>Voltage</th>\n",
       "      <td>241.970</td>\n",
       "      <td>241.750</td>\n",
       "      <td>241.64</td>\n",
       "      <td>241.71</td>\n",
       "      <td>241.980</td>\n",
       "      <td>241.83</td>\n",
       "      <td>241.070</td>\n",
       "      <td>241.290</td>\n",
       "      <td>241.230</td>\n",
       "      <td>242.180</td>\n",
       "      <td>...</td>\n",
       "      <td>240.100</td>\n",
       "      <td>240.170</td>\n",
       "      <td>239.990</td>\n",
       "      <td>239.160</td>\n",
       "      <td>239.290</td>\n",
       "      <td>238.860</td>\n",
       "      <td>239.240</td>\n",
       "      <td>238.750</td>\n",
       "      <td>238.470</td>\n",
       "      <td>238.110</td>\n",
       "    </tr>\n",
       "    <tr>\n",
       "      <th>Global_intensity</th>\n",
       "      <td>10.600</td>\n",
       "      <td>10.400</td>\n",
       "      <td>10.40</td>\n",
       "      <td>10.40</td>\n",
       "      <td>10.400</td>\n",
       "      <td>10.40</td>\n",
       "      <td>10.400</td>\n",
       "      <td>10.200</td>\n",
       "      <td>10.200</td>\n",
       "      <td>10.200</td>\n",
       "      <td>...</td>\n",
       "      <td>1.000</td>\n",
       "      <td>0.800</td>\n",
       "      <td>0.800</td>\n",
       "      <td>0.800</td>\n",
       "      <td>0.800</td>\n",
       "      <td>0.800</td>\n",
       "      <td>0.800</td>\n",
       "      <td>0.800</td>\n",
       "      <td>1.200</td>\n",
       "      <td>1.400</td>\n",
       "    </tr>\n",
       "    <tr>\n",
       "      <th>Sub_metering_1</th>\n",
       "      <td>0.000</td>\n",
       "      <td>0.000</td>\n",
       "      <td>0.00</td>\n",
       "      <td>0.00</td>\n",
       "      <td>0.000</td>\n",
       "      <td>0.00</td>\n",
       "      <td>0.000</td>\n",
       "      <td>0.000</td>\n",
       "      <td>0.000</td>\n",
       "      <td>0.000</td>\n",
       "      <td>...</td>\n",
       "      <td>0.000</td>\n",
       "      <td>0.000</td>\n",
       "      <td>0.000</td>\n",
       "      <td>0.000</td>\n",
       "      <td>0.000</td>\n",
       "      <td>0.000</td>\n",
       "      <td>0.000</td>\n",
       "      <td>0.000</td>\n",
       "      <td>0.000</td>\n",
       "      <td>0.000</td>\n",
       "    </tr>\n",
       "    <tr>\n",
       "      <th>Sub_metering_2</th>\n",
       "      <td>0.000</td>\n",
       "      <td>0.000</td>\n",
       "      <td>0.00</td>\n",
       "      <td>0.00</td>\n",
       "      <td>0.000</td>\n",
       "      <td>0.00</td>\n",
       "      <td>0.000</td>\n",
       "      <td>0.000</td>\n",
       "      <td>0.000</td>\n",
       "      <td>0.000</td>\n",
       "      <td>...</td>\n",
       "      <td>0.000</td>\n",
       "      <td>0.000</td>\n",
       "      <td>0.000</td>\n",
       "      <td>0.000</td>\n",
       "      <td>0.000</td>\n",
       "      <td>0.000</td>\n",
       "      <td>0.000</td>\n",
       "      <td>0.000</td>\n",
       "      <td>0.000</td>\n",
       "      <td>1.000</td>\n",
       "    </tr>\n",
       "    <tr>\n",
       "      <th>Sub_metering_3</th>\n",
       "      <td>0.000</td>\n",
       "      <td>0.000</td>\n",
       "      <td>0.00</td>\n",
       "      <td>0.00</td>\n",
       "      <td>0.000</td>\n",
       "      <td>0.00</td>\n",
       "      <td>0.000</td>\n",
       "      <td>0.000</td>\n",
       "      <td>0.000</td>\n",
       "      <td>0.000</td>\n",
       "      <td>...</td>\n",
       "      <td>0.000</td>\n",
       "      <td>0.000</td>\n",
       "      <td>0.000</td>\n",
       "      <td>0.000</td>\n",
       "      <td>0.000</td>\n",
       "      <td>0.000</td>\n",
       "      <td>0.000</td>\n",
       "      <td>0.000</td>\n",
       "      <td>0.000</td>\n",
       "      <td>0.000</td>\n",
       "    </tr>\n",
       "  </tbody>\n",
       "</table>\n",
       "<p>7 rows × 260640 columns</p>\n",
       "</div>"
      ],
      "text/plain": [
       "DateTime               2007-01-01 00:00:00  2007-01-01 00:01:00  \\\n",
       "Global_active_power                  2.580                2.552   \n",
       "Global_reactive_power                0.136                0.100   \n",
       "Voltage                            241.970              241.750   \n",
       "Global_intensity                    10.600               10.400   \n",
       "Sub_metering_1                       0.000                0.000   \n",
       "Sub_metering_2                       0.000                0.000   \n",
       "Sub_metering_3                       0.000                0.000   \n",
       "\n",
       "DateTime               2007-01-01 00:02:00  2007-01-01 00:03:00  \\\n",
       "Global_active_power                   2.55                 2.55   \n",
       "Global_reactive_power                 0.10                 0.10   \n",
       "Voltage                             241.64               241.71   \n",
       "Global_intensity                     10.40                10.40   \n",
       "Sub_metering_1                        0.00                 0.00   \n",
       "Sub_metering_2                        0.00                 0.00   \n",
       "Sub_metering_3                        0.00                 0.00   \n",
       "\n",
       "DateTime               2007-01-01 00:04:00  2007-01-01 00:05:00  \\\n",
       "Global_active_power                  2.554                 2.55   \n",
       "Global_reactive_power                0.100                 0.10   \n",
       "Voltage                            241.980               241.83   \n",
       "Global_intensity                    10.400                10.40   \n",
       "Sub_metering_1                       0.000                 0.00   \n",
       "Sub_metering_2                       0.000                 0.00   \n",
       "Sub_metering_3                       0.000                 0.00   \n",
       "\n",
       "DateTime               2007-01-01 00:06:00  2007-01-01 00:07:00  \\\n",
       "Global_active_power                  2.534                2.484   \n",
       "Global_reactive_power                0.096                0.000   \n",
       "Voltage                            241.070              241.290   \n",
       "Global_intensity                    10.400               10.200   \n",
       "Sub_metering_1                       0.000                0.000   \n",
       "Sub_metering_2                       0.000                0.000   \n",
       "Sub_metering_3                       0.000                0.000   \n",
       "\n",
       "DateTime               2007-01-01 00:08:00  2007-01-01 00:09:00  ...  \\\n",
       "Global_active_power                  2.468                2.486  ...   \n",
       "Global_reactive_power                0.000                0.000  ...   \n",
       "Voltage                            241.230              242.180  ...   \n",
       "Global_intensity                    10.200               10.200  ...   \n",
       "Sub_metering_1                       0.000                0.000  ...   \n",
       "Sub_metering_2                       0.000                0.000  ...   \n",
       "Sub_metering_3                       0.000                0.000  ...   \n",
       "\n",
       "DateTime               2007-12-06 23:50:00  2007-12-06 23:51:00  \\\n",
       "Global_active_power                  0.228                0.178   \n",
       "Global_reactive_power                0.096                0.098   \n",
       "Voltage                            240.100              240.170   \n",
       "Global_intensity                     1.000                0.800   \n",
       "Sub_metering_1                       0.000                0.000   \n",
       "Sub_metering_2                       0.000                0.000   \n",
       "Sub_metering_3                       0.000                0.000   \n",
       "\n",
       "DateTime               2007-12-06 23:52:00  2007-12-06 23:53:00  \\\n",
       "Global_active_power                  0.178                0.178   \n",
       "Global_reactive_power                0.098                0.094   \n",
       "Voltage                            239.990              239.160   \n",
       "Global_intensity                     0.800                0.800   \n",
       "Sub_metering_1                       0.000                0.000   \n",
       "Sub_metering_2                       0.000                0.000   \n",
       "Sub_metering_3                       0.000                0.000   \n",
       "\n",
       "DateTime               2007-12-06 23:54:00  2007-12-06 23:55:00  \\\n",
       "Global_active_power                  0.178                0.178   \n",
       "Global_reactive_power                0.096                0.094   \n",
       "Voltage                            239.290              238.860   \n",
       "Global_intensity                     0.800                0.800   \n",
       "Sub_metering_1                       0.000                0.000   \n",
       "Sub_metering_2                       0.000                0.000   \n",
       "Sub_metering_3                       0.000                0.000   \n",
       "\n",
       "DateTime               2007-12-06 23:56:00  2007-12-06 23:57:00  \\\n",
       "Global_active_power                  0.178                0.176   \n",
       "Global_reactive_power                0.096                0.094   \n",
       "Voltage                            239.240              238.750   \n",
       "Global_intensity                     0.800                0.800   \n",
       "Sub_metering_1                       0.000                0.000   \n",
       "Sub_metering_2                       0.000                0.000   \n",
       "Sub_metering_3                       0.000                0.000   \n",
       "\n",
       "DateTime               2007-12-06 23:58:00  2007-12-06 23:59:00  \n",
       "Global_active_power                  0.216                0.264  \n",
       "Global_reactive_power                0.124                0.210  \n",
       "Voltage                            238.470              238.110  \n",
       "Global_intensity                     1.200                1.400  \n",
       "Sub_metering_1                       0.000                0.000  \n",
       "Sub_metering_2                       0.000                1.000  \n",
       "Sub_metering_3                       0.000                0.000  \n",
       "\n",
       "[7 rows x 260640 columns]"
      ]
     },
     "execution_count": 36,
     "metadata": {},
     "output_type": "execute_result"
    }
   ],
   "source": [
    "df.groupby('DateTime').mean('agg').T\n",
    "#aggregates=agg"
   ]
  },
  {
   "cell_type": "code",
   "execution_count": 37,
   "id": "cda00d05",
   "metadata": {},
   "outputs": [
    {
     "name": "stdout",
     "output_type": "stream",
     "text": [
      "Month with the highest average voltage: 1\n",
      "Highest voltage reading for this month: 250.89\n"
     ]
    }
   ],
   "source": [
    "# Calculate the average voltage for each month\n",
    "#df.groupby(df[])[].value()\n",
    "average_voltage_per_month = df.groupby(df['DateTime'].dt.month)['Voltage'].mean()\n",
    "\n",
    "#cari max avg voltage\n",
    "highest_voltage_month = average_voltage_per_month.idxmax()  # idxmax() returns the index of the maximum value\n",
    "\n",
    "# Find the highest voltage reading for the highest voltage month\n",
    "highest_voltage_reading = df[df['DateTime'].dt.month == highest_voltage_month]['Voltage'].max()\n",
    "\n",
    "# Print the result\n",
    "print(\"Month with the highest average voltage:\", highest_voltage_month)\n",
    "print(\"Highest voltage reading for this month:\", highest_voltage_reading)"
   ]
  },
  {
   "cell_type": "code",
   "execution_count": 38,
   "id": "41bc9616",
   "metadata": {},
   "outputs": [
    {
     "name": "stdout",
     "output_type": "stream",
     "text": [
      "Month with the highest global active power: 1\n",
      "Highest global active reading for that month: 9.272\n"
     ]
    }
   ],
   "source": [
    "avg_active_per_month = df.groupby(df['DateTime'].dt.month)['Global_active_power'].mean()  #active tertinggi utk bulan2\n",
    "month_highest_active = avg_active_per_month.idxmax()  #active mana tertinggi\n",
    "highest_active_reading = df[df['DateTime'].dt.month==month_highest_active]['Global_active_power'].max()\n",
    "print(\"Month with the highest global active power:\", month_highest_active)\n",
    "print(\"Highest global active reading for that month:\", highest_active_reading)\n",
    "#'SeriesGroupBy' object has no attribute 'mode'"
   ]
  },
  {
   "cell_type": "markdown",
   "id": "5275006b",
   "metadata": {},
   "source": [
    "### ii) Bivariate Non-graphical EDA"
   ]
  },
  {
   "cell_type": "code",
   "execution_count": 39,
   "id": "18578526",
   "metadata": {},
   "outputs": [
    {
     "data": {
      "text/plain": [
       "False"
      ]
     },
     "execution_count": 39,
     "metadata": {},
     "output_type": "execute_result"
    }
   ],
   "source": [
    "df['Voltage'].isna().any()"
   ]
  },
  {
   "cell_type": "code",
   "execution_count": 40,
   "id": "6e31a494",
   "metadata": {},
   "outputs": [
    {
     "data": {
      "text/plain": [
       "<DatetimeArray>\n",
       "['2007-01-01 00:00:00', '2007-01-01 00:01:00', '2007-01-01 00:02:00',\n",
       " '2007-01-01 00:03:00', '2007-01-01 00:04:00', '2007-01-01 00:05:00',\n",
       " '2007-01-01 00:06:00', '2007-01-01 00:07:00', '2007-01-01 00:08:00',\n",
       " '2007-01-01 00:09:00',\n",
       " ...\n",
       " '2007-06-30 23:50:00', '2007-06-30 23:51:00', '2007-06-30 23:52:00',\n",
       " '2007-06-30 23:53:00', '2007-06-30 23:54:00', '2007-06-30 23:55:00',\n",
       " '2007-06-30 23:56:00', '2007-06-30 23:57:00', '2007-06-30 23:58:00',\n",
       " '2007-06-30 23:59:00']\n",
       "Length: 260640, dtype: datetime64[ns]"
      ]
     },
     "execution_count": 40,
     "metadata": {},
     "output_type": "execute_result"
    }
   ],
   "source": [
    "df['DateTime'].unique()"
   ]
  },
  {
   "cell_type": "code",
   "execution_count": 41,
   "id": "adb6a30e",
   "metadata": {},
   "outputs": [
    {
     "data": {
      "text/plain": [
       "nan"
      ]
     },
     "execution_count": 41,
     "metadata": {},
     "output_type": "execute_result"
    }
   ],
   "source": [
    "df[(df['DateTime'].dt.month == 2) & (df['DateTime'].dt.time == '00:05:00')]['Voltage'].mean()"
   ]
  },
  {
   "cell_type": "code",
   "execution_count": 42,
   "id": "c71f0b0c",
   "metadata": {},
   "outputs": [
    {
     "data": {
      "text/plain": [
       "0         False\n",
       "1         False\n",
       "2         False\n",
       "3         False\n",
       "4         False\n",
       "          ...  \n",
       "260635    False\n",
       "260636    False\n",
       "260637    False\n",
       "260638    False\n",
       "260639    False\n",
       "Name: DateTime, Length: 260640, dtype: bool"
      ]
     },
     "execution_count": 42,
     "metadata": {},
     "output_type": "execute_result"
    }
   ],
   "source": [
    "df['DateTime'].dt.time == '00:02:00'"
   ]
  },
  {
   "cell_type": "code",
   "execution_count": 43,
   "id": "022a5ca9",
   "metadata": {},
   "outputs": [
    {
     "name": "stdout",
     "output_type": "stream",
     "text": [
      "Average Voltage in February at 00:00:00: nan\n"
     ]
    }
   ],
   "source": [
    "Usage_in_February = df[(df['DateTime'].dt.month == 2) & (df['DateTime'].dt.time == '00:00:00')]['Voltage'].mean()\n",
    "print(\"Average Voltage in February at 00:00:00:\", Usage_in_February)\n",
    "#bila format time guna specific HMS, dia tak detect and jadi nan, terpaksa guna secara am datetime (kat atas waktu nak convert)\n",
    "\n",
    "#I used .dt.month == 2 to filter the DataFrame for February dates.\n",
    "#I used '00:00:00' as a string to filter for that specific time."
   ]
  },
  {
   "cell_type": "markdown",
   "id": "c2579993",
   "metadata": {},
   "source": [
    "### iii) Graphical EDA"
   ]
  },
  {
   "cell_type": "markdown",
   "id": "9e35733f",
   "metadata": {},
   "source": [
    "**A) Detect outliers**"
   ]
  },
  {
   "cell_type": "markdown",
   "id": "b9eb2b36",
   "metadata": {},
   "source": [
    "**Outliers for Dataframe**\n",
    "\n",
    "- We can see that among the features, voltage records the outliers, which mean, we need to scale our dataset, to avoid the heavy influence of voltage when we evaluate the model."
   ]
  },
  {
   "cell_type": "code",
   "execution_count": 44,
   "id": "a462d120",
   "metadata": {
    "scrolled": true
   },
   "outputs": [
    {
     "data": {
      "image/png": "[encoded data removed]",
      "text/plain": [
       "<Figure size 1000x600 with 1 Axes>"
      ]
     },
     "metadata": {},
     "output_type": "display_data"
    }
   ],
   "source": [
    "plt.figure(figsize=(10, 6))  \n",
    "sns.boxplot(data=df)  #create boxplot utk df\n",
    "plt.title('Boxplot of DataFrame')  \n",
    "plt.xticks(rotation=45)  #rotate x-axis utk readability\n",
    "plt.show()"
   ]
  },
  {
   "cell_type": "markdown",
   "id": "30be1265",
   "metadata": {},
   "source": [
    "- Outliers for numerical columns"
   ]
  },
  {
   "cell_type": "code",
   "execution_count": null,
   "id": "73500759",
   "metadata": {},
   "outputs": [],
   "source": [
    "numeric_features = df.select_dtypes(include=['int64', 'float64'])\n",
    "# Plot boxplot\n",
    "plt.figure(figsize=(12, 8))\n",
    "\n",
    "sns.boxplot(data=numeric_features, orient=\"h\", palette=\"Set1\")\n",
    "\n",
    "plt.title('Boxplot of Numerical Features')\n",
    "plt.xlabel('Value')\n",
    "#plt.gcf().set_facecolor('#008080')\n",
    "plt.show()\n",
    "#voltage has outliers"
   ]
  },
  {
   "cell_type": "markdown",
   "id": "6ffe06bd",
   "metadata": {},
   "source": [
    "**B) Correlation matrices**\n",
    "\n",
    "A great way to easily get a feel for **linear relationships** between variables is with a correlation matrix.\n",
    "\n",
    "- we can see that most features is correlated to `global active power` and `global intensity`.\n",
    "- both `global active power` and `global intensity` has very high correlation, which mean, either can be removed."
   ]
  },
  {
   "cell_type": "code",
   "execution_count": null,
   "id": "3be10e62",
   "metadata": {},
   "outputs": [],
   "source": [
    "#by visual use heat map\n",
    "plt.figure(figsize=(12,12))\n",
    "sns.heatmap(df.corr(numeric_only=True), annot=True);\n",
    "#annot_true to display value inside the heatmap "
   ]
  },
  {
   "cell_type": "markdown",
   "id": "6f3a2bcd",
   "metadata": {},
   "source": [
    "**C) Charts between features**"
   ]
  },
  {
   "cell_type": "code",
   "execution_count": null,
   "id": "f46669e5",
   "metadata": {
    "scrolled": true
   },
   "outputs": [],
   "source": [
    "#events_per_month = df['DateTime'].dt.month.value_counts().sort_index()  #for month distribution and sort them, it willlist x-axis until dec,bacause we sort\n",
    "events_per_month = df['DateTime'].dt.month.value_counts().reindex(range(1, 7), fill_value=0).sort_index() #1,7 untuk pastikan dia tunjuk value utk bulan 6 ja\n",
    "\n",
    "plt.figure(figsize=(10,6))\n",
    "\n",
    "events_per_month.plot(kind='bar', color='green')  #choose barplot\n",
    "\n",
    "plt.title('records per month') #to know the counts for how many reading records are taken for that month\n",
    "plt.xlabel('months')\n",
    "plt.xticks(rotation=0)  #utk bagi horizontal\n",
    "plt.ylabel('records')\n",
    "plt.show()"
   ]
  },
  {
   "cell_type": "markdown",
   "id": "0d90ecd8",
   "metadata": {},
   "source": [
    "This chart shows how many reading records that are taken for each month"
   ]
  },
  {
   "cell_type": "markdown",
   "id": "3673bde8",
   "metadata": {},
   "source": [
    "**D) Plotting over time**"
   ]
  },
  {
   "cell_type": "markdown",
   "id": "187c7b00",
   "metadata": {},
   "source": [
    "**Features average reading against hourly frequency**"
   ]
  },
  {
   "cell_type": "markdown",
   "id": "b9014fcd",
   "metadata": {},
   "source": [
    "This figure is aggregated the dataset using rolling method, for every 2 months, and we can see, most features are closed in value to each other, apart from the voltage, proof by the outliers boxplot before."
   ]
  },
  {
   "cell_type": "code",
   "execution_count": null,
   "id": "854010d6",
   "metadata": {},
   "outputs": [],
   "source": [
    "df.groupby(['DateTime']).mean().rolling(60).mean().plot(linewidth=1)\n",
    "#plt.figure(figsize=(15,10))\n",
    "plt.title('1-HOUR AVERAGE')"
   ]
  },
  {
   "cell_type": "markdown",
   "id": "ebbe828a",
   "metadata": {},
   "source": [
    "**`Global active power` average reading against hourly frequency**"
   ]
  },
  {
   "cell_type": "code",
   "execution_count": null,
   "id": "4bc0333b",
   "metadata": {},
   "outputs": [],
   "source": [
    "# Assuming you want to calculate the rolling mean of 'Voltage' grouped by 'Time'\n",
    "#df.groupby(['DateTime'].dt.time)['Voltage'].mean().rolling(60).mean().plot(linewidth=1)\n",
    "df.groupby(df['DateTime'].dt.time)['Global_active_power'].mean().rolling(60).mean().plot(linewidth=1)\n",
    "plt.title('1-HOUR ACTIVE POWER AVERAGE')\n",
    "plt.xlabel('Time')\n",
    "plt.ylabel('Average global active power')\n",
    "plt.show()"
   ]
  },
  {
   "cell_type": "markdown",
   "id": "c379d270",
   "metadata": {},
   "source": [
    "**`Global active power` average reading against monthly frequency**"
   ]
  },
  {
   "cell_type": "code",
   "execution_count": null,
   "id": "ca35382d",
   "metadata": {},
   "outputs": [],
   "source": [
    "# Ensure 'DateTime' column is in datetime format\n",
    "df['DateTime'] = pd.to_datetime(df['DateTime'])\n",
    "\n",
    "# Group by month and calculate the mean\n",
    "#df.groupby(df['DateTime'].dt.month)['Global_active_power'].mean().rolling(30).mean().plot(linewidth=1)\n",
    "monthly_mean = df.groupby(df['DateTime'].dt.month)['Global_active_power'].mean()\n",
    "\n",
    "# Apply the rolling mean\n",
    "rolling_mean = monthly_mean.rolling(window=3, center=True).mean()\n",
    "\n",
    "# Plot the rolling mean\n",
    "rolling_mean.plot(linewidth=1)\n",
    "plt.title('1-MONTH ACTIVE POWER AVERAGE')\n",
    "plt.xlabel('Month')\n",
    "plt.ylabel('Average Global Active Power')\n",
    "plt.show()"
   ]
  },
  {
   "cell_type": "markdown",
   "id": "a820288c",
   "metadata": {},
   "source": [
    "**Plot Active and Reactive average power usage  in span of 30 days**"
   ]
  },
  {
   "cell_type": "code",
   "execution_count": null,
   "id": "79f0fc94",
   "metadata": {},
   "outputs": [],
   "source": [
    "df.groupby(df['DateTime'].dt.time).mean()[['Global_active_power','Global_reactive_power', 'Global_intensity']].rolling(30).mean().plot(linewidth=1)\n",
    "plt.title('Average Global power usage from average time')\n",
    "plt.show()"
   ]
  },
  {
   "cell_type": "code",
   "execution_count": null,
   "id": "15fe147d",
   "metadata": {},
   "outputs": [],
   "source": [
    "df.groupby(df['DateTime'].dt.time).mean()[['Sub_metering_1', 'Sub_metering_2', 'Sub_metering_3']].rolling(30).mean().plot(linewidth=1)\n",
    "plt.title('Average Meter Reading for average time in span of 30')\n",
    "plt.show()"
   ]
  },
  {
   "cell_type": "markdown",
   "id": "6b598e4b",
   "metadata": {},
   "source": [
    "**Plot to check the skewness of dataset**"
   ]
  },
  {
   "cell_type": "markdown",
   "id": "f54a9859",
   "metadata": {},
   "source": [
    "We can see that our dataset is dense and really tight on right and peak at 1.2 to 1.4.\n",
    "- meaning the usage of active power is usually not that high, it almost at lower region of usage."
   ]
  },
  {
   "cell_type": "code",
   "execution_count": null,
   "id": "82913c6f",
   "metadata": {},
   "outputs": [],
   "source": [
    "plt.figure(figsize=(12,10))\n",
    "sns.distplot(df['Global_active_power'],\n",
    "             kde=True)\n",
    "plt.axvline(x=df.Sub_metering_3.mean(), \n",
    "            linewidth=3, color='g', label=\"mean\", alpha=0.5)\n",
    "plt.axvline(x=df.Sub_metering_3.mean(), \n",
    "            linewidth=3, color='y', label=\"median\", alpha=0.5)\n",
    "\n",
    "# set title, legends and labels\n",
    "plt.title(\"Distribution of Globalactive power Reading\", size=14)\n",
    "plt.legend() #[\"mean\", \"median\"] tak perlu pon letak dlmbracket tu\n",
    "#dense on the left side - rightskewness?\n",
    "#bacaan jarang tinggi"
   ]
  },
  {
   "cell_type": "markdown",
   "id": "5de6f203",
   "metadata": {},
   "source": [
    "We try to displace to bring the bell more into the middle."
   ]
  },
  {
   "cell_type": "code",
   "execution_count": null,
   "id": "1f9d500a",
   "metadata": {},
   "outputs": [],
   "source": [
    "# set the plot size\n",
    "#figsize(12,10)\n",
    "plt.figure(figsize=(12,10))\n",
    "# set the histogram, mean and median\n",
    "sns.distplot(np.log1p(df['Global_active_power']),\n",
    "             kde=True)\n",
    "plt.axvline(x=np.log1p(df.Sub_metering_3.mean()), \n",
    "            linewidth=3, color='g', label=\"mean\", alpha=0.5)\n",
    "plt.axvline(x=np.log1p(df.Sub_metering_3.median()), \n",
    "            linewidth=3, color='y', label=\"median\", alpha=0.5)\n",
    "\n",
    "# set title, legends and labels\n",
    "plt.title(\"Distribution of Logarithm(Global active power Reading + 1) \", size=14)\n",
    "plt.legend()"
   ]
  },
  {
   "cell_type": "markdown",
   "id": "4ee6d3cc",
   "metadata": {},
   "source": [
    "### Scatter plot of meter reading VS date"
   ]
  },
  {
   "cell_type": "code",
   "execution_count": null,
   "id": "cc76eeb9",
   "metadata": {},
   "outputs": [],
   "source": [
    "# for visualization: plotly\n",
    "import plotly.offline as py\n",
    "py.init_notebook_mode(connected=True)\n",
    "import plotly.graph_objects as go\n",
    "import plotly.express as px\n",
    "import plotly.figure_factory as ff\n",
    "from plotly.subplots import make_subplots\n",
    "from plotly.offline import iplot"
   ]
  },
  {
   "cell_type": "code",
   "execution_count": null,
   "id": "807ea9cc",
   "metadata": {},
   "outputs": [],
   "source": [
    "fig = px.scatter(df, x=\"Voltage\", y=\"Global_active_power\", \n",
    "                 color=\"Global_intensity\", hover_data=['Sub_metering_3'])\n",
    "\n",
    "fig.update_layout(title_text='Voltage VS Global Active Power')\n",
    "fig.show()"
   ]
  },
  {
   "cell_type": "code",
   "execution_count": null,
   "id": "2b4a26d2",
   "metadata": {},
   "outputs": [],
   "source": [
    "fig = px.scatter(df, x=\"Sub_metering_3\", y=\"Global_active_power\", \n",
    "                 color=\"Global_intensity\", hover_data=['Voltage'])\n",
    "\n",
    "fig.update_layout(title_text='Sub Meter Reading VS Global Active Power')\n",
    "fig.show()"
   ]
  },
  {
   "cell_type": "markdown",
   "id": "0f872600",
   "metadata": {},
   "source": [
    "### ii) Graphical EDA with `DateTime` as index"
   ]
  },
  {
   "cell_type": "code",
   "execution_count": null,
   "id": "219794e1",
   "metadata": {},
   "outputs": [],
   "source": [
    "# Create a copy of df and set the 'Datetime' column as the index for df2\n",
    "df2 = df.set_index('DateTime').copy()\n",
    "\n",
    "# Now df2 has the 'Datetime' column set as the index"
   ]
  },
  {
   "cell_type": "code",
   "execution_count": null,
   "id": "213fb6aa",
   "metadata": {},
   "outputs": [],
   "source": [
    "df2.head()\n",
    "#issue with voltage and active?"
   ]
  },
  {
   "cell_type": "code",
   "execution_count": null,
   "id": "c52d3d15",
   "metadata": {},
   "outputs": [],
   "source": [
    "# Limit data until June 30, 2007\n",
    "df2 = df2[df2.index <= '2007-06-30']\n",
    "\n",
    "# Resample data by month for sub-metering\n",
    "df_monthly = df2.resample('M').sum()  # Resample to monthly sum\n",
    "sub_metering_cols = ['Sub_metering_1', 'Sub_metering_2', 'Sub_metering_3']\n",
    "\n",
    "# Resample data by week for active and reactive power\n",
    "df_weekly = df2.resample('W').mean()  # Resample to weekly mean\n",
    "\n",
    "# Plotting\n",
    "plt.figure(figsize=(12, 8))\n",
    "\n",
    "# Monthly stacked bar chart for sub-metering\n",
    "plt.subplot(2, 1, 1)  # Create subplot for monthly data\n",
    "df_monthly[sub_metering_cols].plot(kind='bar', stacked=True, ax=plt.gca())\n",
    "plt.title('Monthly Sub-metering')\n",
    "#plt.xlabel('Month\\n\\n')\n",
    "plt.xlabel('Month\\n(January 2007 - June 2007)')\n",
    "plt.xticks(rotation=45, ha='right')  # Rotate x-axis labels by 45 degrees and align them to the right\n",
    "plt.ylabel('Energy Consumption')\n",
    "\n",
    "# Lines for active and reactive power\n",
    "plt.subplot(2, 1, 2)  # Create subplot for weekly data\n",
    "plt.plot(df_weekly.index, df_weekly['Global_active_power'], label='Global Active Power', color='red')\n",
    "plt.plot(df_weekly.index, df_weekly['Global_reactive_power'], label='Global Reactive Power', color='blue')\n",
    "plt.title('Weekly Global Active Power vs Global Reactive Power')\n",
    "plt.xlabel('Date')\n",
    "plt.ylabel('Value')\n",
    "plt.legend()\n",
    "plt.grid(True)\n",
    "\n",
    "plt.tight_layout()\n",
    "plt.show()"
   ]
  },
  {
   "cell_type": "code",
   "execution_count": null,
   "id": "0631167e",
   "metadata": {},
   "outputs": [],
   "source": [
    "# Resample data by month and plot\n",
    "df_monthly = df2.resample('M').sum()  # Resample to monthly sum\n",
    "sub_metering_cols = ['Sub_metering_1', 'Sub_metering_2', 'Sub_metering_3']\n",
    "df_monthly[sub_metering_cols].plot(kind='bar', stacked=True)\n",
    "plt.title('Monthly Sub-metering')\n",
    "plt.xlabel('Month')\n",
    "plt.ylabel('Energy Consumption')\n",
    "plt.show()"
   ]
  },
  {
   "cell_type": "code",
   "execution_count": null,
   "id": "725228d0",
   "metadata": {},
   "outputs": [],
   "source": [
    "plt.figure(figsize=(10, 6))\n",
    "sns.scatterplot(x='Sub_metering_1', y='Global_active_power', data=df2)\n",
    "plt.title('Sub metering 1 vs Global Active Power')\n",
    "plt.xlabel('Sub metering 1')\n",
    "plt.ylabel('Global Active Power')\n",
    "plt.show()"
   ]
  },
  {
   "cell_type": "code",
   "execution_count": null,
   "id": "806494b5",
   "metadata": {},
   "outputs": [],
   "source": [
    "# Limit data until June 30, 2007\n",
    "df2 = df2[df2.index <= '2007-06-30']\n",
    "\n",
    "# Resample data by week\n",
    "df_weekly = df2.resample('W').sum()\n",
    "\n",
    "# Calculate total sub_metering, active power, and reactive power\n",
    "total_sub_metering = df_weekly[['Sub_metering_1', 'Sub_metering_2', 'Sub_metering_3']].sum(axis=1)\n",
    "total_active_power = df_weekly['Global_active_power']\n",
    "total_reactive_power = df_weekly['Global_reactive_power']\n",
    "\n",
    "# Plotting\n",
    "plt.figure(figsize=(12, 6))\n",
    "plt.plot(df_weekly.index, total_sub_metering, label='Total Sub-metering')\n",
    "plt.plot(df_weekly.index, total_active_power, label='Global Active Power')\n",
    "plt.plot(df_weekly.index, total_reactive_power, label='Global Reactive Power')\n",
    "plt.title('Total Energy Consumption vs Power (Weekly)')\n",
    "plt.xlabel('Date')\n",
    "plt.ylabel('Energy Consumption / Power')\n",
    "plt.legend()\n",
    "plt.grid(True)\n",
    "plt.show()"
   ]
  },
  {
   "cell_type": "code",
   "execution_count": null,
   "id": "01f1c8d8",
   "metadata": {},
   "outputs": [],
   "source": [
    "# Limit data until June 30, 2007\n",
    "df2 = df2[df2.index <= '2007-06-30']\n",
    "\n",
    "# Resample data by week\n",
    "df_weekly = df2.resample('W').mean()  # Using mean for resampling, adjust if sum or other aggregation is needed\n",
    "\n",
    "# Plotting\n",
    "plt.figure(figsize=(10, 6))\n",
    "#plt.plot(df_weekly.index, df_weekly['Voltage'], label='Voltage')\n",
    "plt.plot(df_weekly.index, df_weekly['Global_active_power'], label='Global Active Power')\n",
    "plt.plot(df_weekly.index, df_weekly['Global_reactive_power'], label='Global Reactive Power')\n",
    "plt.title('Voltage vs Global Active Power vs Global Reactive Power (Weekly)')\n",
    "plt.xlabel('Date')\n",
    "plt.ylabel('Value')\n",
    "plt.legend()\n",
    "plt.grid(True)\n",
    "plt.show()"
   ]
  },
  {
   "cell_type": "code",
   "execution_count": null,
   "id": "06324b3f",
   "metadata": {},
   "outputs": [],
   "source": [
    "# Limit data until June 30, 2007\n",
    "df2 = df2[df2.index <= '2007-06-30']\n",
    "\n",
    "# Resample data by week\n",
    "df_weekly = df2.resample('W').mean()  # Using mean for resampling, adjust if sum or other aggregation is needed\n",
    "\n",
    "# Plotting Global Reactive Power and Sub_metering_3\n",
    "plt.figure(figsize=(10, 6))\n",
    "plt.plot(df_weekly.index, df_weekly['Global_active_power'], label='Global Active Power')\n",
    "plt.plot(df_weekly.index, df_weekly['Global_reactive_power'], label='Global Reactive Power')\n",
    "plt.plot(df_weekly.index, df_weekly['Sub_metering_1'], label='Sub-metering 1')\n",
    "plt.plot(df_weekly.index, df_weekly['Sub_metering_2'], label='Sub-metering 2')\n",
    "plt.plot(df_weekly.index, df_weekly['Sub_metering_3'], label='Sub-metering 3')\n",
    "plt.title('Global Reactive Power vs Sub-metering 3 (Weekly)')\n",
    "plt.xlabel('Date')\n",
    "plt.ylabel('Value')\n",
    "plt.legend()\n",
    "plt.grid(True)\n",
    "plt.show()"
   ]
  },
  {
   "cell_type": "markdown",
   "id": "d530346e",
   "metadata": {},
   "source": [
    "### ii) Non-graphical EDA with `DateTime` as index"
   ]
  },
  {
   "cell_type": "code",
   "execution_count": null,
   "id": "7919a849",
   "metadata": {},
   "outputs": [],
   "source": [
    "#df2[(df2['DateTime'].dt.month == 2) & (df2['DateTime'].dt.time == '00:05:00')]['Voltage'].mean()\n",
    "# Calculate mean Voltage for February at 00:05:00\n",
    "mean_voltage = df2[(df2.index.month == 2) & (df2.index.strftime('%H:%M:%S') == '00:00:00')]['Voltage'].mean()\n",
    "\n",
    "print(f\"Mean Voltage for February at 00:05:00: {mean_voltage}\")"
   ]
  },
  {
   "cell_type": "markdown",
   "id": "253fd799",
   "metadata": {},
   "source": [
    "#### Feature average for each month"
   ]
  },
  {
   "cell_type": "code",
   "execution_count": null,
   "id": "ec4e1811",
   "metadata": {},
   "outputs": [],
   "source": [
    "# Calculate mean active for each month at 00:00:00\n",
    "def mean_active_at_time(df, time):\n",
    "    return df[df.index.strftime('%H:%M:%S') == time]['Global_active_power'].mean()\n",
    "\n",
    "mean_active_per_month = df2.groupby(df2.index.month).apply(mean_active_at_time, time='00:00:00')\n",
    "\n",
    "print(\"Mean Global active power for each month at 00:00\")\n",
    "print(mean_active_per_month)"
   ]
  },
  {
   "cell_type": "code",
   "execution_count": null,
   "id": "e887cc6e",
   "metadata": {},
   "outputs": [],
   "source": [
    "# Calculate mean reactive for each month at 00:00:00\n",
    "def mean_reactive_at_time(df, time):\n",
    "    return df[df.index.strftime('%H:%M:%S') == time]['Global_reactive_power'].mean()\n",
    "\n",
    "mean_reactive_per_month = df2.groupby(df2.index.month).apply(mean_reactive_at_time, time='00:00:00')\n",
    "\n",
    "print(\"Mean Global reactive power for each month at 00:00\")\n",
    "print(mean_reactive_per_month)"
   ]
  },
  {
   "cell_type": "code",
   "execution_count": null,
   "id": "6b44d35a",
   "metadata": {},
   "outputs": [],
   "source": [
    "# Calculate mean Voltage for each month at 00:00:00\n",
    "def mean_voltage_at_time(df, time):\n",
    "    return df[df.index.strftime('%H:%M:%S') == time]['Voltage'].mean()\n",
    "\n",
    "mean_voltage_per_month = df2.groupby(df2.index.month).apply(mean_voltage_at_time, time='00:00:00')\n",
    "\n",
    "print(\"Mean Voltage for each month at 00:00\")\n",
    "print(mean_voltage_per_month)"
   ]
  },
  {
   "cell_type": "code",
   "execution_count": null,
   "id": "2e3e8486",
   "metadata": {},
   "outputs": [],
   "source": [
    "# Calculate mean submeter 1 for each month at 00:00:00\n",
    "def mean_submeter1_at_time(df, time):\n",
    "    return df[df.index.strftime('%H:%M:%S') == time]['Sub_metering_1'].mean()\n",
    "\n",
    "mean_submeter1_per_month = df2.groupby(df2.index.month).apply(mean_submeter1_at_time, time='00:00:00')\n",
    "\n",
    "print(\"Mean Submeter 1 reading for each month at 00:00\")\n",
    "print(mean_submeter1_per_month)"
   ]
  },
  {
   "cell_type": "code",
   "execution_count": null,
   "id": "8e1818e3",
   "metadata": {},
   "outputs": [],
   "source": [
    "# Calculate mean submeter 2 for each month at 00:00:00\n",
    "def mean_submeter2_at_time(df, time):\n",
    "    return df[df.index.strftime('%H:%M:%S') == time]['Sub_metering_2'].mean()\n",
    "\n",
    "mean_submeter2_per_month = df2.groupby(df2.index.month).apply(mean_submeter2_at_time, time='00:00:00')\n",
    "\n",
    "print(\"Mean Submeter 2 reading for each month at 00:00\")\n",
    "print(mean_submeter2_per_month)"
   ]
  },
  {
   "cell_type": "code",
   "execution_count": null,
   "id": "8a8800c1",
   "metadata": {},
   "outputs": [],
   "source": [
    "# Calculate mean submeter 2 for each month at 00:00:00\n",
    "def mean_submeter3_at_time(df, time):\n",
    "    return df[df.index.strftime('%H:%M:%S') == time]['Sub_metering_3'].mean()\n",
    "\n",
    "mean_submeter3_per_month = df2.groupby(df2.index.month).apply(mean_submeter3_at_time, time='00:00:00')\n",
    "\n",
    "print(\"Mean Submeter 3 reading for each month at 00:00\")\n",
    "print(mean_submeter3_per_month)"
   ]
  },
  {
   "cell_type": "markdown",
   "id": "44f0c21f",
   "metadata": {},
   "source": [
    "**Highest reading**"
   ]
  },
  {
   "cell_type": "code",
   "execution_count": null,
   "id": "19b242b4",
   "metadata": {},
   "outputs": [],
   "source": [
    "# Sort the DataFrame by Global_active_power in descending order\n",
    "sorted_df = df2.sort_values(by='Global_active_power', ascending=False)\n",
    "\n",
    "# Select the top 5 highest readings\n",
    "top_5_readings = sorted_df.head(5)\n",
    "\n",
    "# Retrieve the Global_active_power and corresponding date for these rows\n",
    "top_5_readings = top_5_readings[['Global_active_power']]\n",
    "top_5_readings"
   ]
  },
  {
   "cell_type": "code",
   "execution_count": null,
   "id": "6c8578a8",
   "metadata": {},
   "outputs": [],
   "source": [
    "df2.isnull().sum()"
   ]
  },
  {
   "cell_type": "markdown",
   "id": "4aead98e",
   "metadata": {},
   "source": [
    "dataframe to know day"
   ]
  },
  {
   "cell_type": "code",
   "execution_count": null,
   "id": "09868280",
   "metadata": {},
   "outputs": [],
   "source": [
    "# Reset the index to get the datetime as a column\n",
    "df3 = df2.reset_index()"
   ]
  },
  {
   "cell_type": "code",
   "execution_count": null,
   "id": "7d04b2b3",
   "metadata": {},
   "outputs": [],
   "source": [
    "# Ensure the 'index' column is in datetime format\n",
    "#df3['index'] = pd.to_datetime(df3['index'])\n",
    "# Extract the day from the datetime column\n",
    "#df3['Day'] = df3['DateTime'].dt.day\n",
    "# Display the new 'Day' column\n",
    "df3.head()"
   ]
  },
  {
   "cell_type": "code",
   "execution_count": null,
   "id": "094b87a0",
   "metadata": {},
   "outputs": [],
   "source": [
    "# Extract the day from the datetime column\n",
    "df3['Day'] = df3['DateTime'].dt.day\n",
    "df3.head()"
   ]
  },
  {
   "cell_type": "code",
   "execution_count": null,
   "id": "a04649f6",
   "metadata": {},
   "outputs": [],
   "source": [
    "# Set the 'Date' column as the index\n",
    "df3.set_index('DateTime', inplace=True)\n",
    "df3.head()"
   ]
  },
  {
   "cell_type": "code",
   "execution_count": null,
   "id": "ed1b5d25",
   "metadata": {},
   "outputs": [],
   "source": [
    "df3.isnull().sum()"
   ]
  },
  {
   "cell_type": "code",
   "execution_count": null,
   "id": "8b74649b",
   "metadata": {},
   "outputs": [],
   "source": [
    "# Group by 'Date' (extracted from DateTime index) and calculate mean for each group\n",
    "df3_grouped = df3.groupby(df3.index.date).mean()\n",
    "df3_grouped.drop(columns=['Day'], inplace=True)\n",
    "# Display the resulting DataFrame with one row per unique date\n",
    "df3_grouped.head()"
   ]
  },
  {
   "cell_type": "code",
   "execution_count": null,
   "id": "d239049b",
   "metadata": {},
   "outputs": [],
   "source": [
    "# Sort df3_grouped by 'Global_active_power' in descending order\n",
    "sorted_df = df3_grouped.sort_values(by='Global_active_power', ascending=False)\n",
    "\n",
    "# Select the top 7 days with highest 'Global_active_power'\n",
    "top_7_days = sorted_df.head(7)\n",
    "\n",
    "# Display the top 7 days\n",
    "print(\"Days with the highest Global_active_power:\")\n",
    "top_7_days"
   ]
  },
  {
   "cell_type": "markdown",
   "id": "7706777b",
   "metadata": {},
   "source": [
    "**Non-graphical EDA as index**"
   ]
  },
  {
   "cell_type": "markdown",
   "id": "2b3cc580",
   "metadata": {},
   "source": [
    "---"
   ]
  },
  {
   "cell_type": "markdown",
   "id": "3af19011",
   "metadata": {},
   "source": [
    "## Testing to see how dataset work with the modelling"
   ]
  },
  {
   "cell_type": "code",
   "execution_count": 302,
   "id": "1032105d",
   "metadata": {},
   "outputs": [],
   "source": [
    "#This will remove the 'Global_intensity' column from df2. The axis=1 parameter specifies that you're referring to a column, \n",
    "#and inplace=True ensures that the change is made directly to df2 without the need for reassignment.\n",
    "df2.drop('Global_intensity', axis=1, inplace=True)"
   ]
  },
  {
   "cell_type": "code",
   "execution_count": 303,
   "id": "6aa2a7f1",
   "metadata": {},
   "outputs": [
    {
     "data": {
      "text/html": [
       "<div>\n",
       "<style scoped>\n",
       "    .dataframe tbody tr th:only-of-type {\n",
       "        vertical-align: middle;\n",
       "    }\n",
       "\n",
       "    .dataframe tbody tr th {\n",
       "        vertical-align: top;\n",
       "    }\n",
       "\n",
       "    .dataframe thead th {\n",
       "        text-align: right;\n",
       "    }\n",
       "</style>\n",
       "<table border=\"1\" class=\"dataframe\">\n",
       "  <thead>\n",
       "    <tr style=\"text-align: right;\">\n",
       "      <th></th>\n",
       "      <th>Global_active_power</th>\n",
       "      <th>Global_reactive_power</th>\n",
       "      <th>Voltage</th>\n",
       "      <th>Sub_metering_1</th>\n",
       "      <th>Sub_metering_2</th>\n",
       "      <th>Sub_metering_3</th>\n",
       "    </tr>\n",
       "    <tr>\n",
       "      <th>DateTime</th>\n",
       "      <th></th>\n",
       "      <th></th>\n",
       "      <th></th>\n",
       "      <th></th>\n",
       "      <th></th>\n",
       "      <th></th>\n",
       "    </tr>\n",
       "  </thead>\n",
       "  <tbody>\n",
       "    <tr>\n",
       "      <th>2007-01-01 00:00:00</th>\n",
       "      <td>2.580</td>\n",
       "      <td>0.136</td>\n",
       "      <td>241.97</td>\n",
       "      <td>0.0</td>\n",
       "      <td>0.0</td>\n",
       "      <td>0.0</td>\n",
       "    </tr>\n",
       "    <tr>\n",
       "      <th>2007-01-01 00:01:00</th>\n",
       "      <td>2.552</td>\n",
       "      <td>0.100</td>\n",
       "      <td>241.75</td>\n",
       "      <td>0.0</td>\n",
       "      <td>0.0</td>\n",
       "      <td>0.0</td>\n",
       "    </tr>\n",
       "    <tr>\n",
       "      <th>2007-01-01 00:02:00</th>\n",
       "      <td>2.550</td>\n",
       "      <td>0.100</td>\n",
       "      <td>241.64</td>\n",
       "      <td>0.0</td>\n",
       "      <td>0.0</td>\n",
       "      <td>0.0</td>\n",
       "    </tr>\n",
       "    <tr>\n",
       "      <th>2007-01-01 00:03:00</th>\n",
       "      <td>2.550</td>\n",
       "      <td>0.100</td>\n",
       "      <td>241.71</td>\n",
       "      <td>0.0</td>\n",
       "      <td>0.0</td>\n",
       "      <td>0.0</td>\n",
       "    </tr>\n",
       "    <tr>\n",
       "      <th>2007-01-01 00:04:00</th>\n",
       "      <td>2.554</td>\n",
       "      <td>0.100</td>\n",
       "      <td>241.98</td>\n",
       "      <td>0.0</td>\n",
       "      <td>0.0</td>\n",
       "      <td>0.0</td>\n",
       "    </tr>\n",
       "  </tbody>\n",
       "</table>\n",
       "</div>"
      ],
      "text/plain": [
       "                     Global_active_power  Global_reactive_power  Voltage  \\\n",
       "DateTime                                                                   \n",
       "2007-01-01 00:00:00                2.580                  0.136   241.97   \n",
       "2007-01-01 00:01:00                2.552                  0.100   241.75   \n",
       "2007-01-01 00:02:00                2.550                  0.100   241.64   \n",
       "2007-01-01 00:03:00                2.550                  0.100   241.71   \n",
       "2007-01-01 00:04:00                2.554                  0.100   241.98   \n",
       "\n",
       "                     Sub_metering_1  Sub_metering_2  Sub_metering_3  \n",
       "DateTime                                                             \n",
       "2007-01-01 00:00:00             0.0             0.0             0.0  \n",
       "2007-01-01 00:01:00             0.0             0.0             0.0  \n",
       "2007-01-01 00:02:00             0.0             0.0             0.0  \n",
       "2007-01-01 00:03:00             0.0             0.0             0.0  \n",
       "2007-01-01 00:04:00             0.0             0.0             0.0  "
      ]
     },
     "execution_count": 303,
     "metadata": {},
     "output_type": "execute_result"
    }
   ],
   "source": [
    "df2.head()"
   ]
  },
  {
   "cell_type": "code",
   "execution_count": 304,
   "id": "d7c4897a",
   "metadata": {},
   "outputs": [
    {
     "data": {
      "text/plain": [
       "Global_active_power      0\n",
       "Global_reactive_power    0\n",
       "Voltage                  0\n",
       "Sub_metering_1           0\n",
       "Sub_metering_2           0\n",
       "Sub_metering_3           0\n",
       "dtype: int64"
      ]
     },
     "execution_count": 304,
     "metadata": {},
     "output_type": "execute_result"
    }
   ],
   "source": [
    "df2.isnull().sum()"
   ]
  },
  {
   "cell_type": "markdown",
   "id": "187e8d32",
   "metadata": {},
   "source": [
    "Start modelling here"
   ]
  },
  {
   "cell_type": "code",
   "execution_count": 306,
   "id": "045c23ec",
   "metadata": {},
   "outputs": [],
   "source": [
    "# Convert DataFrame to CSV\n",
    "#df2.to_csv('household_power_consumption_cleaned_datetime_index_drop_intensity.csv', index=True)"
   ]
  },
  {
   "cell_type": "markdown",
   "id": "acf3d422",
   "metadata": {},
   "source": [
    "features vs datetime"
   ]
  },
  {
   "cell_type": "code",
   "execution_count": 307,
   "id": "93ebab73",
   "metadata": {},
   "outputs": [
    {
     "data": {
      "text/plain": [
       "<Axes: xlabel='DateTime'>"
      ]
     },
     "execution_count": 307,
     "metadata": {},
     "output_type": "execute_result"
    },
    {
     "data": {
      "image/png": "[encoded data removed]",
      "text/plain": [
       "<Figure size 640x480 with 1 Axes>"
      ]
     },
     "metadata": {},
     "output_type": "display_data"
    }
   ],
   "source": [
    "df2.plot()"
   ]
  },
  {
   "cell_type": "code",
   "execution_count": 308,
   "id": "5c36c26e",
   "metadata": {},
   "outputs": [
    {
     "data": {
      "text/html": [
       "<div>\n",
       "<style scoped>\n",
       "    .dataframe tbody tr th:only-of-type {\n",
       "        vertical-align: middle;\n",
       "    }\n",
       "\n",
       "    .dataframe tbody tr th {\n",
       "        vertical-align: top;\n",
       "    }\n",
       "\n",
       "    .dataframe thead th {\n",
       "        text-align: right;\n",
       "    }\n",
       "</style>\n",
       "<table border=\"1\" class=\"dataframe\">\n",
       "  <thead>\n",
       "    <tr style=\"text-align: right;\">\n",
       "      <th></th>\n",
       "      <th>Global_active_power</th>\n",
       "      <th>Global_reactive_power</th>\n",
       "      <th>Voltage</th>\n",
       "      <th>Sub_metering_1</th>\n",
       "      <th>Sub_metering_2</th>\n",
       "      <th>Sub_metering_3</th>\n",
       "    </tr>\n",
       "    <tr>\n",
       "      <th>DateTime</th>\n",
       "      <th></th>\n",
       "      <th></th>\n",
       "      <th></th>\n",
       "      <th></th>\n",
       "      <th></th>\n",
       "      <th></th>\n",
       "    </tr>\n",
       "  </thead>\n",
       "  <tbody>\n",
       "    <tr>\n",
       "      <th>2007-01-01 00:00:00</th>\n",
       "      <td>2.580</td>\n",
       "      <td>0.136</td>\n",
       "      <td>241.97</td>\n",
       "      <td>0.0</td>\n",
       "      <td>0.0</td>\n",
       "      <td>0.0</td>\n",
       "    </tr>\n",
       "    <tr>\n",
       "      <th>2007-01-01 00:01:00</th>\n",
       "      <td>2.552</td>\n",
       "      <td>0.100</td>\n",
       "      <td>241.75</td>\n",
       "      <td>0.0</td>\n",
       "      <td>0.0</td>\n",
       "      <td>0.0</td>\n",
       "    </tr>\n",
       "    <tr>\n",
       "      <th>2007-01-01 00:02:00</th>\n",
       "      <td>2.550</td>\n",
       "      <td>0.100</td>\n",
       "      <td>241.64</td>\n",
       "      <td>0.0</td>\n",
       "      <td>0.0</td>\n",
       "      <td>0.0</td>\n",
       "    </tr>\n",
       "    <tr>\n",
       "      <th>2007-01-01 00:03:00</th>\n",
       "      <td>2.550</td>\n",
       "      <td>0.100</td>\n",
       "      <td>241.71</td>\n",
       "      <td>0.0</td>\n",
       "      <td>0.0</td>\n",
       "      <td>0.0</td>\n",
       "    </tr>\n",
       "    <tr>\n",
       "      <th>2007-01-01 00:04:00</th>\n",
       "      <td>2.554</td>\n",
       "      <td>0.100</td>\n",
       "      <td>241.98</td>\n",
       "      <td>0.0</td>\n",
       "      <td>0.0</td>\n",
       "      <td>0.0</td>\n",
       "    </tr>\n",
       "  </tbody>\n",
       "</table>\n",
       "</div>"
      ],
      "text/plain": [
       "                     Global_active_power  Global_reactive_power  Voltage  \\\n",
       "DateTime                                                                   \n",
       "2007-01-01 00:00:00                2.580                  0.136   241.97   \n",
       "2007-01-01 00:01:00                2.552                  0.100   241.75   \n",
       "2007-01-01 00:02:00                2.550                  0.100   241.64   \n",
       "2007-01-01 00:03:00                2.550                  0.100   241.71   \n",
       "2007-01-01 00:04:00                2.554                  0.100   241.98   \n",
       "\n",
       "                     Sub_metering_1  Sub_metering_2  Sub_metering_3  \n",
       "DateTime                                                             \n",
       "2007-01-01 00:00:00             0.0             0.0             0.0  \n",
       "2007-01-01 00:01:00             0.0             0.0             0.0  \n",
       "2007-01-01 00:02:00             0.0             0.0             0.0  \n",
       "2007-01-01 00:03:00             0.0             0.0             0.0  \n",
       "2007-01-01 00:04:00             0.0             0.0             0.0  "
      ]
     },
     "execution_count": 308,
     "metadata": {},
     "output_type": "execute_result"
    }
   ],
   "source": [
    "df2.head()"
   ]
  },
  {
   "cell_type": "code",
   "execution_count": 309,
   "id": "8fa0c3a2",
   "metadata": {},
   "outputs": [
    {
     "name": "stderr",
     "output_type": "stream",
     "text": [
      "C:\\Users\\najib\\anaconda3\\Lib\\site-packages\\pandas\\core\\internals\\blocks.py:366: RuntimeWarning:\n",
      "\n",
      "divide by zero encountered in log\n",
      "\n"
     ]
    },
    {
     "data": {
      "image/png": "[encoded data removed]",
      "text/plain": [
       "<Figure size 640x480 with 1 Axes>"
      ]
     },
     "metadata": {},
     "output_type": "display_data"
    }
   ],
   "source": [
    "# Apply the natural logarithm to all numerical columns in df2\n",
    "df2_log = np.log(df2)\n",
    "\n",
    "# Plot the resulting DataFrame\n",
    "df2_log.plot()\n",
    "plt.show()"
   ]
  },
  {
   "cell_type": "markdown",
   "id": "5ac4108a",
   "metadata": {},
   "source": [
    "If the line graph appears too tight, adjust the visualization to make it clearer. Here are a few strategies:\n",
    "\n",
    "- Resample the data: If datetime data is very granular (e.g., every second), you can resample it to a higher level (e.g., every hour, day, etc.).\n",
    "- Adjust the figure size: Increase the size of the plot to make it more readable.\n",
    "- Use rolling averages: Apply a rolling average to smooth the data."
   ]
  },
  {
   "cell_type": "code",
   "execution_count": 311,
   "id": "7a198b10",
   "metadata": {},
   "outputs": [
    {
     "data": {
      "image/png": "[encoded data removed]",
      "text/plain": [
       "<Figure size 640x480 with 1 Axes>"
      ]
     },
     "metadata": {},
     "output_type": "display_data"
    }
   ],
   "source": [
    "# Plot the 'Global_active_power' column against 'Datetime'\n",
    "df2['Global_active_power'].plot(kind='line')\n",
    "plt.xlabel('Datetime')\n",
    "plt.ylabel('Global Active Power')\n",
    "plt.title('Global Active Power Over Time')\n",
    "plt.show()"
   ]
  },
  {
   "cell_type": "code",
   "execution_count": 316,
   "id": "cf23a4a9",
   "metadata": {},
   "outputs": [
    {
     "data": {
      "text/html": [
       "<div>\n",
       "<style scoped>\n",
       "    .dataframe tbody tr th:only-of-type {\n",
       "        vertical-align: middle;\n",
       "    }\n",
       "\n",
       "    .dataframe tbody tr th {\n",
       "        vertical-align: top;\n",
       "    }\n",
       "\n",
       "    .dataframe thead th {\n",
       "        text-align: right;\n",
       "    }\n",
       "</style>\n",
       "<table border=\"1\" class=\"dataframe\">\n",
       "  <thead>\n",
       "    <tr style=\"text-align: right;\">\n",
       "      <th></th>\n",
       "      <th>DateTime</th>\n",
       "      <th>Global_active_power</th>\n",
       "      <th>Global_reactive_power</th>\n",
       "      <th>Voltage</th>\n",
       "      <th>Sub_metering_1</th>\n",
       "      <th>Sub_metering_2</th>\n",
       "      <th>Sub_metering_3</th>\n",
       "    </tr>\n",
       "  </thead>\n",
       "  <tbody>\n",
       "    <tr>\n",
       "      <th>0</th>\n",
       "      <td>2007-01-01 00:00:00</td>\n",
       "      <td>2.580</td>\n",
       "      <td>0.136</td>\n",
       "      <td>241.97</td>\n",
       "      <td>0.0</td>\n",
       "      <td>0.0</td>\n",
       "      <td>0.0</td>\n",
       "    </tr>\n",
       "    <tr>\n",
       "      <th>1</th>\n",
       "      <td>2007-01-01 00:01:00</td>\n",
       "      <td>2.552</td>\n",
       "      <td>0.100</td>\n",
       "      <td>241.75</td>\n",
       "      <td>0.0</td>\n",
       "      <td>0.0</td>\n",
       "      <td>0.0</td>\n",
       "    </tr>\n",
       "    <tr>\n",
       "      <th>2</th>\n",
       "      <td>2007-01-01 00:02:00</td>\n",
       "      <td>2.550</td>\n",
       "      <td>0.100</td>\n",
       "      <td>241.64</td>\n",
       "      <td>0.0</td>\n",
       "      <td>0.0</td>\n",
       "      <td>0.0</td>\n",
       "    </tr>\n",
       "    <tr>\n",
       "      <th>3</th>\n",
       "      <td>2007-01-01 00:03:00</td>\n",
       "      <td>2.550</td>\n",
       "      <td>0.100</td>\n",
       "      <td>241.71</td>\n",
       "      <td>0.0</td>\n",
       "      <td>0.0</td>\n",
       "      <td>0.0</td>\n",
       "    </tr>\n",
       "    <tr>\n",
       "      <th>4</th>\n",
       "      <td>2007-01-01 00:04:00</td>\n",
       "      <td>2.554</td>\n",
       "      <td>0.100</td>\n",
       "      <td>241.98</td>\n",
       "      <td>0.0</td>\n",
       "      <td>0.0</td>\n",
       "      <td>0.0</td>\n",
       "    </tr>\n",
       "  </tbody>\n",
       "</table>\n",
       "</div>"
      ],
      "text/plain": [
       "              DateTime  Global_active_power  Global_reactive_power  Voltage  \\\n",
       "0  2007-01-01 00:00:00                2.580                  0.136   241.97   \n",
       "1  2007-01-01 00:01:00                2.552                  0.100   241.75   \n",
       "2  2007-01-01 00:02:00                2.550                  0.100   241.64   \n",
       "3  2007-01-01 00:03:00                2.550                  0.100   241.71   \n",
       "4  2007-01-01 00:04:00                2.554                  0.100   241.98   \n",
       "\n",
       "   Sub_metering_1  Sub_metering_2  Sub_metering_3  \n",
       "0             0.0             0.0             0.0  \n",
       "1             0.0             0.0             0.0  \n",
       "2             0.0             0.0             0.0  \n",
       "3             0.0             0.0             0.0  \n",
       "4             0.0             0.0             0.0  "
      ]
     },
     "execution_count": 316,
     "metadata": {},
     "output_type": "execute_result"
    }
   ],
   "source": [
    "df3 = pd.read_csv('data/household_power_consumption_cleaned_datetime_index_drop_intensity.csv')\n",
    "df3.head()"
   ]
  },
  {
   "cell_type": "code",
   "execution_count": 317,
   "id": "fbf02d30",
   "metadata": {},
   "outputs": [
    {
     "data": {
      "image/png": "[encoded data removed]",
      "text/plain": [
       "<Figure size 1200x600 with 1 Axes>"
      ]
     },
     "metadata": {},
     "output_type": "display_data"
    }
   ],
   "source": [
    "# Apply a rolling average with a window size of 7 (weekly average)\n",
    "df2_rolling = df2['Global_active_power'].rolling(window=30).mean()\n",
    "\n",
    "# Plot the rolling average data\n",
    "df2_rolling.plot(kind='line', figsize=(12, 6))\n",
    "plt.xlabel('Datetime')\n",
    "plt.ylabel('Global Active Power')\n",
    "plt.title('Global Active Power Over Time (7-Day Rolling Average)')\n",
    "plt.show()"
   ]
  },
  {
   "cell_type": "markdown",
   "id": "4ec5cce2",
   "metadata": {},
   "source": [
    "## ARIMA modelling kickstart"
   ]
  },
  {
   "cell_type": "code",
   "execution_count": 318,
   "id": "5f7546a1",
   "metadata": {},
   "outputs": [],
   "source": [
    "from statsmodels.tsa.arima.model import ARIMA\n",
    "from statsmodels.graphics.tsaplots import plot_acf, plot_pacf"
   ]
  },
  {
   "cell_type": "code",
   "execution_count": 319,
   "id": "e7904e69",
   "metadata": {},
   "outputs": [
    {
     "data": {
      "image/png": "[encoded data removed]",
      "text/plain": [
       "<Figure size 640x480 with 1 Axes>"
      ]
     },
     "metadata": {},
     "output_type": "display_data"
    }
   ],
   "source": [
    "## PLOTTING AUTO CORRELATION AND PARTIAL CORRELATION\n",
    "plot_acf(df.groupby(['DateTime']).mean()['Global_active_power'][:'2007-08'],lags=100,title=\"Global Active Power\")\n",
    "plt.xlabel('lags')\n",
    "plt.title('Autocorrelation')\n",
    "plt.grid()\n",
    "plt.show()\n",
    "\n",
    "#plot decay gradually for ACF which mean ARIMA(p,d,0)"
   ]
  },
  {
   "cell_type": "code",
   "execution_count": 320,
   "id": "ea33e6a8",
   "metadata": {},
   "outputs": [
    {
     "data": {
      "image/png": "[encoded data removed]",
      "text/plain": [
       "<Figure size 640x480 with 1 Axes>"
      ]
     },
     "metadata": {},
     "output_type": "display_data"
    }
   ],
   "source": [
    "## PLOTTING AUTO CORRELATION AND PARTIAL CORRELATION\n",
    "plot_pacf(df.groupby(['DateTime']).mean()['Global_active_power'][:'2007-08'],lags=100,title=\"Global Active Power\")\n",
    "plt.xlabel('lags')\n",
    "plt.title('Autocorrelation')\n",
    "plt.grid()\n",
    "plt.show()"
   ]
  },
  {
   "cell_type": "markdown",
   "id": "27d6ef4a",
   "metadata": {},
   "source": [
    "The features vs datetime plot, ACF and PACF plot show really tight tails, so we decide to do some cleaning in the next notebook,where we will drop other features and left only with global active power that neccessary for time-series analysis"
   ]
  },
  {
   "cell_type": "markdown",
   "id": "21a11aa7",
   "metadata": {},
   "source": [
    "Stage of CRISP-DM: \n",
    "\n",
    "2. Understanding data\n",
    "3. Preparation of data"
   ]
  },
  {
   "cell_type": "code",
   "execution_count": null,
   "id": "85de206a",
   "metadata": {},
   "outputs": [],
   "source": []
  }
 ],
 "metadata": {
  "kernelspec": {
   "display_name": "Python 3 (ipykernel)",
   "language": "python",
   "name": "python3"
  },
  "language_info": {
   "codemirror_mode": {
    "name": "ipython",
    "version": 3
   },
   "file_extension": ".py",
   "mimetype": "text/x-python",
   "name": "python",
   "nbconvert_exporter": "python",
   "pygments_lexer": "ipython3",
   "version": "3.11.7"
  }
 },
 "nbformat": 4,
 "nbformat_minor": 5
}
