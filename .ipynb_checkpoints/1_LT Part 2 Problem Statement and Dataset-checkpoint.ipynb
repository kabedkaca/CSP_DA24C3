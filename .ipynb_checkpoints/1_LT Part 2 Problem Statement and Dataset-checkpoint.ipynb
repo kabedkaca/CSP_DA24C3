{
 "cells": [
  {
   "cell_type": "markdown",
   "id": "dc35a8c7",
   "metadata": {},
   "source": [
    "# Part 2: Problem Statement and Dataset"
   ]
  },
  {
   "cell_type": "markdown",
   "id": "831ffc3c",
   "metadata": {},
   "source": [
    "We expect a formatted and complete Jupyter Notebook by end of class the due date, which accomplishes the following:\n",
    "\n",
    "1. Identifies which of the three proposals you outlined in your lightning talk you have chosen\n",
    "2. Articulates the main goal of your project (your problem statement)\n",
    "3. Outlines your proposed methods and models\n",
    "4. Defines the risks & assumptions of your data\n",
    "5. Revises initial goals & success criteria, as needed\n",
    "6. Documents your data source"
   ]
  },
  {
   "cell_type": "markdown",
   "id": "11e59fe0",
   "metadata": {},
   "source": [
    "### 1. Identifies which of the three proposals you outlined in your lightning talk you have chosen\n",
    "- Time-series analysis using ARIMA & SARIMA prediction model to predict the household power consumption.\n",
    "\n",
    "### 2. Articulates the main goal of your project (your problem statement):\n",
    "\n",
    "Goal:\n",
    "- Specific: Using Auto Regressive Intergrated Moving Average)ARIMA time-series \n",
    "\n",
    "- Measurable: Model performance is assessed by  error, to ensure the model is low in projecting error\n",
    "\n",
    "- Achievable: Project is appropriately scoped as there is clear syllabus and reference with guidance and data availability and relevancy\n",
    "\n",
    "- Relevant: \n",
    ">The model will visualize the power usage and will be relevant to\n",
    ">- Utility company :optimize power generation and distribution, minimizing waste and ensuring reliable service.\n",
    ">- Publics: to minimize over-consumption \n",
    " \n",
    "- Time-bound: Project will be completed within the camp period\n"
   ]
  },
  {
   "cell_type": "markdown",
   "id": "a7910104",
   "metadata": {},
   "source": [
    "### 3. Outlines the proposed methods and models\n",
    " \n",
    "#### Proposed Methods\n",
    "1. Come up with problem statement using SMART \n",
    "2. Collecting data \n",
    "3. Preprocess the data\n",
    "4. Exploratory Data Analysis (EDA)\n",
    "5. Feature Engineering the data: \n",
    "> eg: \n",
    ">- Transform dataset to be stationary\n",
    ">- Compute resample (e.g., mean, sum).\n",
    ">- Perform seasonal decomposition to analyze components.\n",
    "6. Model Selection based on Time-Series Analysis: ARIMA model & SARIMA model\n",
    "7. Model Implementation: Train-Test Split, Evaluate model based on metrics\n",
    "8. Model Deployment\n",
    "9. Model Monitoring\n",
    "\n",
    "\n",
    "#### **Proposed models**\n",
    "**Time-Series Analysis**\n",
    "- Model: ARIMA (Autoregressive Integrated Moving Average)\n",
    "- Model: SARIMA (Seasonal Autoregressive Integrated Moving Average)\n",
    "\n",
    "**Model assumptions**\n",
    "- stationary: time series has its statistical properties, remain constant across time\n",
    "- autoregressive: time series is linearly regressed on its own past value\n",
    "- intergrated: time series can be differenced to be stationary\n",
    "- moving average: time series is regressed on past forecast error"
   ]
  },
  {
   "cell_type": "markdown",
   "id": "cce08c85",
   "metadata": {},
   "source": [
    "### 4. Defines the risks & assumptions of the data\n",
    "\n",
    "\n",
    "Risk:\n",
    "- Data is not suitable for objective\n",
    "- Data quality issues (errors, missing values, outliers)\n",
    "- Too many independent features (multicollinearity)\n",
    "\n",
    "Assumptions:\n",
    "- Data is cleaned and validated\n",
    "- Data distribution is representative\n"
   ]
  },
  {
   "cell_type": "markdown",
   "id": "729ec42a",
   "metadata": {},
   "source": [
    "### 5. Revises initial goals & success criteria\n",
    "\n",
    "The initial goals:\n",
    "Predict the occurrence and severity of landslides, floods, and earthquakes based on historical data.\n",
    "Identifying trends and patterns in the frequency and intensity of these natural disasters over time.\n",
    "Identifying high-risk periods and areas helps in implementing preventive measures to reduce the impact of disasters.\n",
    "To see if the other natural disaster will trigger or give impact on severity of disaster\n",
    "\n",
    "**Revised goal:**\n",
    "Predict the household power consumptions using ARIMA & SARIMA model.\n",
    "Identifying high-usage month to help in implementing preventive measures to reduce the over-consumption.\n",
    "Identifying trends in power usage frequency over time.\n",
    "\n",
    "\n",
    "Initial success criteria:\n",
    "Based on Accuracy, Mean Squared Error, Plot and Visual Inspection and Benchmarking\n",
    "\n",
    "**Revised success criteria:**\n",
    "Evaluate model using not only error,plot and visual inspection but also by Akaike information criterion (AIC).\n"
   ]
  },
  {
   "cell_type": "markdown",
   "id": "4fba245d",
   "metadata": {},
   "source": [
    "### 6. Documents your data source\n",
    "\n",
    "Data source: \n",
    "- https://www.kaggle.com/code/vedumrajkar/electricity-consumption-time-series-analysis/notebook\n",
    "- https://www.youtube.com/watch?v=-aCF0_wfVwY\n",
    "- https://www.capitalone.com/tech/machine-learning/arima-model-time-series-forecasting/"
   ]
  },
  {
   "cell_type": "code",
   "execution_count": null,
   "id": "5890e241",
   "metadata": {},
   "outputs": [],
   "source": []
  }
 ],
 "metadata": {
  "kernelspec": {
   "display_name": "Python 3 (ipykernel)",
   "language": "python",
   "name": "python3"
  },
  "language_info": {
   "codemirror_mode": {
    "name": "ipython",
    "version": 3
   },
   "file_extension": ".py",
   "mimetype": "text/x-python",
   "name": "python",
   "nbconvert_exporter": "python",
   "pygments_lexer": "ipython3",
   "version": "3.11.7"
  }
 },
 "nbformat": 4,
 "nbformat_minor": 5
}
